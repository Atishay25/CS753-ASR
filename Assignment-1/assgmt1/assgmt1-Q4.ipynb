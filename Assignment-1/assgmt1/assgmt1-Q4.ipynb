{
  "cells": [
    {
      "cell_type": "markdown",
      "metadata": {
        "id": "p3S0Etz_Nokz"
      },
      "source": [
        "# PART I: Running a SpeechBrain ASR Recipe"
      ]
    },
    {
      "cell_type": "markdown",
      "metadata": {
        "id": "h-xktzpeEBjf"
      },
      "source": [
        "## You have to fill in appropriate code in 4 locations in the notebook.\n",
        "\n",
        "* The four locations start with \"####TASK\". Read the task specifications mentioned there.\n",
        "* The required function names are already available in this notebook somewhere. You're only required to find and use the appropriate ones.\n",
        "* Check the SpeechBrain documentation to find out how to use those functions. Refer to the starting material for more resources.\n",
        "* By the end of this part of the assignment, you should be comfortable running a Speechbrain recipe.\n",
        "* **P.S.** Note that none of the four tasks require you to write more than 1 line of code."
      ]
    },
    {
      "cell_type": "markdown",
      "metadata": {
        "id": "bKXIYTJSOnt_"
      },
      "source": [
        "### Setting up the codebase."
      ]
    },
    {
      "cell_type": "code",
      "execution_count": 1,
      "metadata": {
        "id": "A5H2lpHX7npZ"
      },
      "outputs": [
        {
          "data": {
            "text/plain": [
              "'\\n%%capture\\n\\n# Clone SpeechBrain repository\\n!git clone https://github.com/Darshan7575/speechbrain.git\\n%cd /content/speechbrain/\\n\\n# Install required dependencies\\n!pip install -r requirements.txt\\n\\n# Install SpeechBrain in editable mode\\n!pip install -e .\\n'"
            ]
          },
          "execution_count": 1,
          "metadata": {},
          "output_type": "execute_result"
        }
      ],
      "source": [
        "'''\n",
        "%%capture\n",
        "\n",
        "# Clone SpeechBrain repository\n",
        "!git clone https://github.com/Darshan7575/speechbrain.git\n",
        "%cd /content/speechbrain/\n",
        "\n",
        "# Install required dependencies\n",
        "!pip install -r requirements.txt\n",
        "\n",
        "# Install SpeechBrain in editable mode\n",
        "!pip install -e .\n",
        "'''"
      ]
    },
    {
      "cell_type": "code",
      "execution_count": 2,
      "metadata": {
        "id": "61C_gxJo5aRH"
      },
      "outputs": [
        {
          "name": "stderr",
          "output_type": "stream",
          "text": [
            "/users/ug21/atishay/.local/lib/python3.9/site-packages/tqdm/auto.py:21: TqdmWarning: IProgress not found. Please update jupyter and ipywidgets. See https://ipywidgets.readthedocs.io/en/stable/user_install.html\n",
            "  from .autonotebook import tqdm as notebook_tqdm\n"
          ]
        }
      ],
      "source": [
        "# @title\n",
        "# Required imports\n",
        "import os\n",
        "import json\n",
        "import shutil\n",
        "import logging\n",
        "import sys\n",
        "import torch\n",
        "from pathlib import Path\n",
        "import speechbrain as sb\n",
        "from hyperpyyaml import load_hyperpyyaml\n",
        "from speechbrain.utils.data_utils import get_all_files, download_file\n",
        "from speechbrain.dataio.dataio import read_audio\n",
        "from speechbrain.utils.distributed import run_on_main, if_main_process\n",
        "\n",
        "# Required variables and loggers\n",
        "logger = logging.getLogger(__name__)\n",
        "logger = logging.getLogger(__name__)\n",
        "MINILIBRI_TRAIN_URL = \"http://www.openslr.org/resources/31/train-clean-5.tar.gz\"\n",
        "MINILIBRI_VALID_URL = \"http://www.openslr.org/resources/31/dev-clean-2.tar.gz\"\n",
        "MINILIBRI_TEST_URL = \"https://www.cse.iitb.ac.in/~chaitanyagarwal/res_blindtest.tgz\"\n",
        "SAMPLERATE = 16000\n",
        "\n",
        "device=\"cuda\"\n",
        "run_opts = {'device':device}"
      ]
    },
    {
      "cell_type": "markdown",
      "metadata": {
        "id": "rtdr1VnyCQTJ"
      },
      "source": [
        "### Tokenizer Training\n",
        "In this section, we will train a BPE tokenizer with **150 tokens** using `Sentencepiece`.\n",
        "\n"
      ]
    },
    {
      "cell_type": "code",
      "execution_count": 3,
      "metadata": {
        "id": "ujToJHWC4T5y"
      },
      "outputs": [],
      "source": [
        "# ############################################################################\n",
        "# Dataset creation helper functions\n",
        "# ############################################################################\n",
        "\n",
        "def prepare_mini_librispeech(\n",
        "    data_folder, save_json_train, save_json_valid, save_json_test\n",
        "):\n",
        "    \"\"\"\n",
        "    Prepares the json files for the Mini Librispeech dataset.\n",
        "    Downloads the dataset if its not found in the `data_folder`.\n",
        "    \"\"\"\n",
        "\n",
        "    # Check if this phase is already done (if so, skip it)\n",
        "    if skip(save_json_train, save_json_valid, save_json_test):\n",
        "        logger.info(\"Preparation completed in previous run, skipping.\")\n",
        "        return\n",
        "\n",
        "    # If the dataset doesn't exist yet, download it\n",
        "    train_folder = os.path.join(data_folder, \"LibriSpeech\", \"train-clean-5\")\n",
        "    valid_folder = os.path.join(data_folder, \"LibriSpeech\", \"dev-clean-2\")\n",
        "    test_folder = os.path.join(data_folder, \"LibriSpeech\", \"test-clean\")\n",
        "    if not check_folders(train_folder, valid_folder, test_folder):\n",
        "        download_mini_librispeech(data_folder)\n",
        "\n",
        "    # List files and create manifest from list\n",
        "    logger.info(\n",
        "        f\"Creating {save_json_train}, {save_json_valid}, and {save_json_test}\"\n",
        "    )\n",
        "    extension = [\".flac\"]\n",
        "\n",
        "    # List of flac audio files\n",
        "    wav_list_train = get_all_files(train_folder, match_and=extension)\n",
        "    wav_list_valid = get_all_files(valid_folder, match_and=extension)\n",
        "    wav_list_test = get_all_files(test_folder, match_and=extension)\n",
        "\n",
        "    # List of transcription file\n",
        "    extension = [\".trans.txt\"]\n",
        "    trans_list = get_all_files(data_folder, match_and=extension)\n",
        "    trans_dict = get_transcription(trans_list)\n",
        "\n",
        "    # Create the json files\n",
        "    create_json(wav_list_train, trans_dict, save_json_train)\n",
        "    create_json(wav_list_valid, trans_dict, save_json_valid)\n",
        "    create_json(wav_list_test, trans_dict, save_json_test)\n",
        "\n",
        "\n",
        "def get_transcription(trans_list):\n",
        "    \"\"\"\n",
        "    Returns a dictionary with the transcription of each sentence in the dataset.\n",
        "    \"\"\"\n",
        "    # Processing all the transcription files in the list\n",
        "    trans_dict = {}\n",
        "    for trans_file in trans_list:\n",
        "        # Reading the text file\n",
        "        with open(trans_file) as f:\n",
        "            for line in f:\n",
        "                uttid = line.split(\" \")[0]\n",
        "                text = line.rstrip().split(\" \")[1:]\n",
        "                text = \" \".join(text)\n",
        "                trans_dict[uttid] = text\n",
        "\n",
        "    logger.info(\"Transcription files read!\")\n",
        "    return trans_dict\n",
        "\n",
        "\n",
        "def create_json(wav_list, trans_dict, json_file):\n",
        "    \"\"\"\n",
        "    Creates the json file given a list of wav files and their transcriptions.\n",
        "    \"\"\"\n",
        "    # Processing all the wav files in the list\n",
        "    json_dict = {}\n",
        "    for wav_file in wav_list:\n",
        "\n",
        "        # Reading the signal (to retrieve duration in seconds)\n",
        "        signal = read_audio(wav_file)\n",
        "        duration = signal.shape[0] / SAMPLERATE\n",
        "\n",
        "        # Manipulate path to get relative path and uttid\n",
        "        path_parts = wav_file.split(os.path.sep)\n",
        "        uttid, _ = os.path.splitext(path_parts[-1])\n",
        "        relative_path = os.path.join(\"{data_root}\", *path_parts[-5:])\n",
        "\n",
        "        # Create entry for this utterance\n",
        "        json_dict[uttid] = {\n",
        "            \"wav\": relative_path,\n",
        "            \"length\": duration,\n",
        "            \"words\": trans_dict[uttid],\n",
        "        }\n",
        "\n",
        "    # Writing the dictionary to the json file\n",
        "    with open(json_file, mode=\"w\") as json_f:\n",
        "        json.dump(json_dict, json_f, indent=2)\n",
        "\n",
        "    logger.info(f\"{json_file} successfully created!\")\n",
        "\n",
        "\n",
        "def skip(*filenames):\n",
        "    \"\"\"\n",
        "    Detects if the data preparation has been already done.\n",
        "    If the preparation has been done, we can skip it.\n",
        "    \"\"\"\n",
        "    for filename in filenames:\n",
        "        if not os.path.isfile(filename):\n",
        "            return False\n",
        "    return True\n",
        "\n",
        "\n",
        "def check_folders(*folders):\n",
        "    \"\"\"Returns False if any passed folder does not exist.\"\"\"\n",
        "    for folder in folders:\n",
        "        if not os.path.exists(folder):\n",
        "            return False\n",
        "    return True\n",
        "\n",
        "\n",
        "def download_mini_librispeech(destination):\n",
        "    \"\"\"Download dataset and unpack it.\n",
        "    \"\"\"\n",
        "    train_archive = os.path.join(destination, \"train-clean-5.tar.gz\")\n",
        "    valid_archive = os.path.join(destination, \"dev-clean-2.tar.gz\")\n",
        "    test_archive = os.path.join(destination, \"test-clean.tar.gz\")\n",
        "    download_file(MINILIBRI_TRAIN_URL, train_archive)\n",
        "    download_file(MINILIBRI_VALID_URL, valid_archive)\n",
        "    download_file(MINILIBRI_TEST_URL, test_archive)\n",
        "    print(os.listdir(os.path.join(destination)))\n",
        "    shutil.unpack_archive(train_archive, destination)\n",
        "    print(os.listdir(os.path.join(destination)))\n",
        "    shutil.unpack_archive(valid_archive, destination)\n",
        "    print(os.listdir(os.path.join(destination)))\n",
        "    shutil.unpack_archive(test_archive, destination)\n",
        "    print(os.listdir(os.path.join(destination)))\n"
      ]
    },
    {
      "cell_type": "code",
      "execution_count": 4,
      "metadata": {
        "id": "rz9pyHan4V0S"
      },
      "outputs": [],
      "source": [
        "tokenizer_hyperparams = \"\"\"\n",
        "# ############################################################################\n",
        "# Tokenizer: subword BPE with unigram 150\n",
        "# ############################################################################\n",
        "\n",
        "output_folder: !ref results/tokenizer/\n",
        "\n",
        "# Data files\n",
        "data_folder: data\n",
        "train_annotation: !ref <data_folder>/train.json\n",
        "valid_annotation: !ref <data_folder>/valid.json\n",
        "test_annotation: !ref <data_folder>/test.json\n",
        "\n",
        "# Tokenizer training parameters\n",
        "token_type: unigram  # [\"unigram\", \"bpe\", \"char\"]\n",
        "token_output: 150  # index(blank/eos/bos/unk) = 0\n",
        "character_coverage: 1.0\n",
        "json_read: words\n",
        "\n",
        "tokenizer: !name:speechbrain.tokenizers.SentencePiece.SentencePiece\n",
        "   model_dir: !ref <output_folder>\n",
        "   vocab_size: !ref <token_output>\n",
        "   annotation_train: !ref <train_annotation>\n",
        "   annotation_read: !ref <json_read>\n",
        "   annotation_format: json\n",
        "   model_type: !ref <token_type> # [\"unigram\", \"bpe\", \"char\"]\n",
        "   character_coverage: !ref <character_coverage>\n",
        "   annotation_list_to_check: [!ref <train_annotation>, !ref <valid_annotation>]\n",
        "\n",
        "\"\"\""
      ]
    },
    {
      "cell_type": "code",
      "execution_count": 5,
      "metadata": {
        "colab": {
          "base_uri": "https://localhost:8080/",
          "height": 611
        },
        "id": "nA8xD6Do4Xl7",
        "outputId": "ff43881c-97dc-4681-a2df-63edaa36935e"
      },
      "outputs": [
        {
          "name": "stdout",
          "output_type": "stream",
          "text": [
            "speechbrain.core - Beginning experiment!\n",
            "speechbrain.core - Experiment folder: results/tokenizer/\n"
          ]
        },
        {
          "name": "stdout",
          "output_type": "stream",
          "text": [
            "__main__ - Preparation completed in previous run, skipping.\n",
            "speechbrain.tokenizers.SentencePiece - Tokenizer is already trained.\n",
            "speechbrain.tokenizers.SentencePiece - ==== Loading Tokenizer ===\n",
            "speechbrain.tokenizers.SentencePiece - Tokenizer path: results/tokenizer/150_unigram.model\n",
            "speechbrain.tokenizers.SentencePiece - Tokenizer vocab_size: 150\n",
            "speechbrain.tokenizers.SentencePiece - Tokenizer type: unigram\n",
            "speechbrain.tokenizers.SentencePiece - ==== Accuracy checking for recovering text from tokenizer ===\n",
            "speechbrain.tokenizers.SentencePiece - recover words from: data/train.json\n",
            "speechbrain.tokenizers.SentencePiece - Wrong recover words: 0\n",
            "speechbrain.tokenizers.SentencePiece - accuracy recovering words: 1.0\n",
            "speechbrain.tokenizers.SentencePiece - ==== Accuracy checking for recovering text from tokenizer ===\n",
            "speechbrain.tokenizers.SentencePiece - recover words from: data/valid.json\n",
            "speechbrain.tokenizers.SentencePiece - Wrong recover words: 0\n",
            "speechbrain.tokenizers.SentencePiece - accuracy recovering words: 1.0\n"
          ]
        },
        {
          "data": {
            "text/plain": [
              "'results/tokenizer//tokenizer.ckpt'"
            ]
          },
          "execution_count": 5,
          "metadata": {},
          "output_type": "execute_result"
        }
      ],
      "source": [
        "# load required params from the hyperpyyaml file\n",
        "hparams = load_hyperpyyaml(tokenizer_hyperparams)\n",
        "\n",
        "# 1. Dataset creation\n",
        "\n",
        "## Create experiment directory\n",
        "sb.create_experiment_directory(\n",
        "    experiment_directory=hparams[\"output_folder\"],\n",
        "    overrides=None,\n",
        ")\n",
        "\n",
        "## Create dataset\n",
        "run_on_main(\n",
        "    prepare_mini_librispeech,\n",
        "    kwargs={\n",
        "        \"data_folder\": hparams[\"data_folder\"],\n",
        "        \"save_json_train\": hparams[\"train_annotation\"],\n",
        "        \"save_json_valid\": hparams[\"valid_annotation\"],\n",
        "        \"save_json_test\": hparams[\"test_annotation\"],\n",
        "    },\n",
        ")\n",
        "\n",
        "# 2. Tokenizer training\n",
        "hparams[\"tokenizer\"]()\n",
        "\n",
        "# 3. Saving tokenizer in .ckpt extension\n",
        "output_path = hparams[\"output_folder\"]\n",
        "token_output = hparams[\"token_output\"]\n",
        "token_type = hparams[\"token_type\"]\n",
        "bpe_model = f\"{output_path}/{token_output}_{token_type}.model\"\n",
        "tokenizer_ckpt = f\"{output_path}/tokenizer.ckpt\"\n",
        "shutil.copyfile(bpe_model, tokenizer_ckpt)"
      ]
    },
    {
      "cell_type": "markdown",
      "metadata": {
        "id": "vwqFx3QcOdd3"
      },
      "source": [
        "### Model Training\n",
        "In this section, we will train a **6 layer Conformer** encoder only architecture with the `CTC objective`."
      ]
    },
    {
      "cell_type": "code",
      "execution_count": 6,
      "metadata": {
        "id": "6WPcwXueCRm7"
      },
      "outputs": [],
      "source": [
        "global_hyperparams = \"\"\"\n",
        "# Seed needs to be set at top of yaml, before objects with parameters are made\n",
        "seed: 2024\n",
        "__set_seed: !apply:torch.manual_seed [!ref <seed>]\n",
        "\n",
        "# Data files\n",
        "data_folder: data\n",
        "\n",
        "####TASK ADD APPROPRIATE REFERENCES TO LOAD THE FILES ##############\n",
        "\n",
        "train_annotation: !ref ./data/train.json\n",
        "valid_annotation: !ref ./data/valid.json\n",
        "test_annotation: !ref ./data/test.json\n",
        "#####################################################################\n",
        "\n",
        "# Language model (LM) pretraining\n",
        "pretrained_lm_tokenizer_path: ./results/tokenizer\n",
        "\n",
        "# Training parameters\n",
        "number_of_epochs: 50\n",
        "batch_size: 8\n",
        "lr_adam: 0.001\n",
        "max_grad_norm: 5.0\n",
        "ckpt_interval_minutes: 15 # save checkpoint every N min\n",
        "loss_reduction: 'batchmean'\n",
        "\n",
        "# Dataloader options\n",
        "train_dataloader_opts:\n",
        "    batch_size: !ref <batch_size>\n",
        "\n",
        "valid_dataloader_opts:\n",
        "    batch_size: !ref <batch_size>\n",
        "\n",
        "test_dataloader_opts:\n",
        "    batch_size: !ref <batch_size>\n",
        "\n",
        "# Feature parameters\n",
        "sample_rate: 16000\n",
        "n_fft: 400\n",
        "n_mels: 80\n",
        "\n",
        "####################### Model parameters ###########################\n",
        "# Transformer\n",
        "d_model: 64\n",
        "nhead: 4\n",
        "num_encoder_layers: 6\n",
        "d_ffn: 256\n",
        "transformer_dropout: 0.1\n",
        "activation: !name:torch.nn.GELU\n",
        "output_neurons: 150\n",
        "label_smoothing: 0.0\n",
        "attention_type: RelPosMHAXL\n",
        "\n",
        "# Outputs\n",
        "blank_index: 0\n",
        "pad_index: 0\n",
        "bos_index: 1\n",
        "eos_index: 2\n",
        "\n",
        "# Decoding parameters\n",
        "min_decode_ratio: 0.0\n",
        "max_decode_ratio: 1.0\n",
        "test_beam_size: 1\n",
        "ctc_weight_decode: 1.0\n",
        "\n",
        "############################## models ################################\n",
        "\n",
        "compute_features: !new:speechbrain.lobes.features.Fbank\n",
        "    sample_rate: !ref <sample_rate>\n",
        "    n_fft: !ref <n_fft>\n",
        "    n_mels: !ref <n_mels>\n",
        "\n",
        "CNN: !new:speechbrain.lobes.models.convolution.ConvolutionFrontEnd\n",
        "    input_shape: (8, 10, 80)\n",
        "    num_blocks: 2\n",
        "    num_layers_per_block: 1\n",
        "    out_channels: (64, 32)\n",
        "    kernel_sizes: (3, 3)\n",
        "    strides: (2, 2)\n",
        "    residuals: (False, False)\n",
        "\n",
        "# standard parameters for the BASE model\n",
        "Transformer: !new:speechbrain.lobes.models.transformer.TransformerASR.TransformerASR\n",
        "    input_size: 640\n",
        "    tgt_vocab: !ref <output_neurons>\n",
        "    d_model: !ref <d_model>\n",
        "    nhead: !ref <nhead>\n",
        "    num_encoder_layers: !ref <num_encoder_layers>\n",
        "    num_decoder_layers: 0\n",
        "    d_ffn: !ref <d_ffn>\n",
        "    dropout: !ref <transformer_dropout>\n",
        "    activation: !ref <activation>\n",
        "    encoder_module: conformer\n",
        "    attention_type: !ref <attention_type>\n",
        "    normalize_before: True\n",
        "\n",
        "tokenizer: !new:sentencepiece.SentencePieceProcessor\n",
        "\n",
        "ctc_lin: !new:speechbrain.nnet.linear.Linear\n",
        "    input_size: !ref <d_model>\n",
        "    n_neurons: !ref <output_neurons>\n",
        "\n",
        "normalize: !new:speechbrain.processing.features.InputNormalization\n",
        "    norm_type: global\n",
        "    update_until_epoch: 4\n",
        "\n",
        "modules:\n",
        "    CNN: !ref <CNN>\n",
        "    Transformer: !ref <Transformer>\n",
        "    ctc_lin: !ref <ctc_lin>\n",
        "    normalize: !ref <normalize>\n",
        "\n",
        "model: !new:torch.nn.ModuleList\n",
        "    - [!ref <CNN>, !ref <Transformer>, !ref <ctc_lin>]\n",
        "\n",
        "# define two optimizers here for two-stage training\n",
        "Adam: !name:torch.optim.Adam\n",
        "    lr: !ref <lr_adam>\n",
        "    betas: (0.9, 0.98)\n",
        "    eps: 0.000000001\n",
        "\n",
        "log_softmax: !new:torch.nn.LogSoftmax\n",
        "    dim: -1\n",
        "\n",
        "ctc_cost: !name:speechbrain.nnet.losses.ctc_loss\n",
        "    blank_index: !ref <blank_index>\n",
        "    reduction: !ref <loss_reduction>\n",
        "\n",
        "noam_annealing: !new:speechbrain.nnet.schedulers.NoamScheduler\n",
        "    lr_initial: !ref <lr_adam>\n",
        "    n_warmup_steps: 1500\n",
        "\n",
        "epoch_counter: !new:speechbrain.utils.epoch_loop.EpochCounter\n",
        "    limit: !ref <number_of_epochs>\n",
        "\n",
        "error_rate_computer: !name:speechbrain.utils.metric_stats.ErrorRateStats\n",
        "\n",
        "cer_computer: !name:speechbrain.utils.metric_stats.ErrorRateStats\n",
        "   split_tokens: True\n",
        "\n",
        "# The pretrainer allows a mapping between pretrained files and instances that\n",
        "# are declared in the yaml. E.g here, we will download the file tokenizer.ckpt\n",
        "# and it will be loaded into \"tokenizer\" which is pointing to the <pretrained_lm_tokenizer_path> defined\n",
        "# before.\n",
        "pretrainer: !new:speechbrain.utils.parameter_transfer.Pretrainer\n",
        "    loadables:\n",
        "        tokenizer: !ref <tokenizer>\n",
        "    paths:\n",
        "        tokenizer: !ref <pretrained_lm_tokenizer_path>/tokenizer.ckpt\n",
        "\"\"\""
      ]
    },
    {
      "cell_type": "code",
      "execution_count": 7,
      "metadata": {
        "id": "euJMqDLSWv7Y"
      },
      "outputs": [],
      "source": [
        "def dataio_prepare(hparams):\n",
        "    \"\"\"This function prepares the datasets to be used in the brain class.\n",
        "    It also defines the data processing pipeline through user-defined functions.\n",
        "    \"\"\"\n",
        "    # Define audio pipeline. In this case, we simply read the path contained\n",
        "    # in the variable wav with the audio reader.\n",
        "    @sb.utils.data_pipeline.takes(\"wav\")\n",
        "    @sb.utils.data_pipeline.provides(\"sig\")\n",
        "    def audio_pipeline(wav):\n",
        "        \"\"\"Load the audio signal. This is done on the CPU in the `collate_fn`.\"\"\"\n",
        "        sig = sb.dataio.dataio.read_audio(wav)\n",
        "        return sig\n",
        "\n",
        "    tokenizer = hparams[\"tokenizer\"]\n",
        "    # Define text processing pipeline. We start from the raw text and then\n",
        "    # encode it using the tokenizer. The tokens with BOS are used for feeding\n",
        "    # decoder during training, the tokens with EOS for computing the cost function.\n",
        "    # The tokens without BOS or EOS is for computing CTC loss.\n",
        "    @sb.utils.data_pipeline.takes(\"words\")\n",
        "    @sb.utils.data_pipeline.provides(\n",
        "        \"wrd\", \"tokens_list\", \"tokens_bos\", \"tokens_eos\", \"tokens\"\n",
        "    )\n",
        "    def text_pipeline(wrd):\n",
        "        \"\"\"Processes the transcriptions to generate proper labels\"\"\"\n",
        "        yield wrd\n",
        "        tokens_list = tokenizer.encode_as_ids(wrd)\n",
        "        yield tokens_list\n",
        "        tokens_bos = torch.LongTensor([hparams[\"bos_index\"]] + (tokens_list))\n",
        "        yield tokens_bos\n",
        "        tokens_eos = torch.LongTensor(tokens_list + [hparams[\"eos_index\"]])\n",
        "        yield tokens_eos\n",
        "        tokens = torch.LongTensor(tokens_list)\n",
        "        yield tokens\n",
        "\n",
        "    # Define datasets from json data manifest file\n",
        "    # Define datasets sorted by ascending lengths for efficiency\n",
        "    datasets = {}\n",
        "    data_folder = hparams[\"data_folder\"]\n",
        "    for dataset in [\"train\", \"valid\", \"test\"]:\n",
        "        datasets[dataset] = sb.dataio.dataset.DynamicItemDataset.from_json(\n",
        "            json_path=hparams[f\"{dataset}_annotation\"],\n",
        "            replacements={\"data_root\": data_folder},\n",
        "            dynamic_items=[audio_pipeline, text_pipeline],\n",
        "            output_keys=[\n",
        "                \"id\",\n",
        "                \"sig\",\n",
        "                \"wrd\",\n",
        "                \"tokens_bos\",\n",
        "                \"tokens_eos\",\n",
        "                \"tokens\",\n",
        "            ],\n",
        "        )\n",
        "        hparams[f\"{dataset}_dataloader_opts\"][\"shuffle\"] = False\n",
        "\n",
        "    datasets[\"train\"] = datasets[\"train\"].filtered_sorted(sort_key=\"length\")\n",
        "    hparams[\"train_dataloader_opts\"][\"shuffle\"] = False\n",
        "\n",
        "    return (\n",
        "        datasets[\"train\"],\n",
        "        datasets[\"valid\"],\n",
        "        datasets[\"test\"],\n",
        "        tokenizer\n",
        "    )"
      ]
    },
    {
      "cell_type": "code",
      "execution_count": 8,
      "metadata": {
        "id": "wUEBBUOQZ4V-"
      },
      "outputs": [],
      "source": [
        "# Define training procedure\n",
        "test_preds = {'ID': [], \"TRANSCRIPT\": []}\n",
        "# pred_ids = []\n",
        "class BaseASR(sb.Brain):\n",
        "    def __init__(\n",
        "        self,\n",
        "        modules=None,\n",
        "        opt_class=None,\n",
        "        hparams=None,\n",
        "        run_opts=None,\n",
        "        checkpointer=None,\n",
        "        profiler=None,\n",
        "        tokenizer=None,\n",
        "    ):\n",
        "        super(BaseASR, self).__init__(\n",
        "            modules=modules,\n",
        "            opt_class=opt_class,\n",
        "            hparams=hparams,\n",
        "            run_opts=run_opts,\n",
        "            checkpointer=checkpointer,\n",
        "            profiler=profiler\n",
        "        )\n",
        "        self.tokenizer = tokenizer\n",
        "\n",
        "    def compute_forward(self, batch, stage):\n",
        "        \"\"\"Performs a forward pass through the encoder\"\"\"\n",
        "        batch = batch.to(self.device)\n",
        "        wavs, wav_lens = batch.sig\n",
        "        tokens_bos, _ = batch.tokens_bos\n",
        "\n",
        "        # compute features\n",
        "        ####TASK MAKE APPROPRIATE FUNCTION CALLS TO COMPUTE THE FEATURES BELOW\n",
        "        feats = self.hparams.compute_features(wavs)\n",
        "        current_epoch = self.hparams.epoch_counter.current\n",
        "        feats = self.modules.normalize(feats, wav_lens, epoch=current_epoch)\n",
        "\n",
        "        # forward modules\n",
        "        src = self.modules.CNN(feats)\n",
        "\n",
        "        enc_out, _ = self.modules.Transformer(\n",
        "            src, tokens_bos, wav_lens, pad_idx=self.hparams.pad_index,\n",
        "        )\n",
        "\n",
        "        # output layer for ctc log-probabilities\n",
        "        logits = self.modules.ctc_lin(enc_out)\n",
        "\n",
        "        ####TASK CALCULATE THE PROBABILITIES OF THESE LOGITS\n",
        "        #### USING SPEECHBRAIN\n",
        "        p_ctc = self.hparams.log_softmax(logits)\n",
        "\n",
        "        # Compute outputs\n",
        "        hyps = None\n",
        "        if stage == sb.Stage.TRAIN:\n",
        "            hyps = None\n",
        "        else:\n",
        "            hyps = sb.decoders.ctc_greedy_decode(\n",
        "                p_ctc, wav_lens, blank_id=self.hparams.blank_index\n",
        "            )\n",
        "\n",
        "        return p_ctc, wav_lens, hyps\n",
        "\n",
        "    def compute_objectives(self, predictions, batch, stage):\n",
        "        \"\"\"Computes the CTC loss given predictions and targets.\"\"\"\n",
        "\n",
        "        (p_ctc, wav_lens, hyps,) = predictions\n",
        "\n",
        "        ids = batch.id\n",
        "        tokens_eos, tokens_eos_lens = batch.tokens_eos\n",
        "        tokens, tokens_lens = batch.tokens\n",
        "\n",
        "        # Calculate CTC loss\n",
        "        ####TASK Make required function call to compute CTC LOSS\n",
        "        #### You have to aggregate the loss in the end so make appropriate\n",
        "        #### modifications to the value returned.\n",
        "        loss = self.hparams.ctc_cost(p_ctc, tokens, wav_lens, tokens_lens)\n",
        "\n",
        "        if stage != sb.Stage.TRAIN:\n",
        "            # Decode token terms to words\n",
        "            predicted_words = [\n",
        "                self.tokenizer.decode_ids(utt_seq).split(\" \") for utt_seq in hyps\n",
        "            ]\n",
        "            target_words = [wrd.split(\" \") for wrd in batch.wrd]\n",
        "            self.wer_metric.append(ids, predicted_words, target_words)\n",
        "            self.cer_metric.append(ids, predicted_words, target_words)\n",
        "\n",
        "        return loss\n",
        "\n",
        "    def on_evaluate_start(self, max_key=None, min_key=None):\n",
        "        \"\"\"Performs checkpoint averge if needed\"\"\"\n",
        "        super().on_evaluate_start()\n",
        "\n",
        "        ckpts = self.checkpointer.find_checkpoints(\n",
        "            max_key=max_key, min_key=min_key\n",
        "        )\n",
        "        ckpt = sb.utils.checkpoints.average_checkpoints(\n",
        "            ckpts, recoverable_name=\"model\", device=self.device\n",
        "        )\n",
        "\n",
        "        self.hparams.model.load_state_dict(ckpt, strict=True)\n",
        "        self.hparams.model.eval()\n",
        "        print(\"Loaded the average\")\n",
        "\n",
        "    def evaluate_batch(self, batch, stage):\n",
        "        \"\"\"Computations needed for validation/test batches\"\"\"\n",
        "        global test_preds\n",
        "        with torch.no_grad():\n",
        "            predictions = self.compute_forward(batch, stage=stage)\n",
        "            if stage == sb.Stage.TEST:\n",
        "                _,_,_,hyps = predictions\n",
        "                preds = [self.tokenizer.decode_ids(i).split(\" \") for i in hyps]\n",
        "                test_preds['ID'] += batch.id\n",
        "                test_preds['TRANSCRIPT'] += preds\n",
        "            loss = self.compute_objectives(predictions, batch, stage=stage)\n",
        "        return loss.detach()\n",
        "\n",
        "    def on_stage_start(self, stage, epoch):\n",
        "        \"\"\"Gets called at the beginning of each epoch\"\"\"\n",
        "        if stage != sb.Stage.TRAIN:\n",
        "            self.cer_metric = self.hparams.cer_computer()\n",
        "            self.wer_metric = self.hparams.error_rate_computer()\n",
        "\n",
        "    def on_stage_end(self, stage, stage_loss, epoch):\n",
        "        \"\"\"Gets called at the end of a epoch.\"\"\"\n",
        "        # Compute/store important stats\n",
        "        stage_stats = {\"loss\": stage_loss}\n",
        "        if stage == sb.Stage.TRAIN:\n",
        "            self.train_stats = stage_stats\n",
        "        else:\n",
        "            stage_stats[\"CER\"] = self.cer_metric.summarize(\"error_rate\")\n",
        "            stage_stats[\"WER\"] = self.wer_metric.summarize(\"error_rate\")\n",
        "\n",
        "        # log stats and save checkpoint at end-of-epoch\n",
        "        if stage == sb.Stage.VALID and sb.utils.distributed.if_main_process():\n",
        "\n",
        "            lr = self.hparams.noam_annealing.current_lr\n",
        "            steps = self.optimizer_step\n",
        "            optimizer = self.optimizer.__class__.__name__\n",
        "\n",
        "            epoch_stats = {\n",
        "                \"epoch\": epoch,\n",
        "                \"lr\": lr,\n",
        "                \"steps\": steps,\n",
        "                \"optimizer\": optimizer,\n",
        "            }\n",
        "            self.hparams.train_logger.log_stats(\n",
        "                stats_meta=epoch_stats,\n",
        "                train_stats=self.train_stats,\n",
        "                valid_stats=stage_stats,\n",
        "            )\n",
        "            # Save only last 10 checkpoints\n",
        "            self.checkpointer.save_and_keep_only(\n",
        "                meta={\"loss\": stage_loss, \"epoch\": epoch},\n",
        "                max_keys=[\"epoch\"],\n",
        "                num_to_keep=10,\n",
        "            )\n",
        "\n",
        "        elif stage == sb.Stage.TEST:\n",
        "            self.hparams.train_logger.log_stats(\n",
        "                stats_meta={\"Epoch loaded\": self.hparams.epoch_counter.current},\n",
        "                test_stats=stage_stats,\n",
        "            )\n",
        "            # Write the WER metric for test dataset\n",
        "            if if_main_process():\n",
        "                with open(self.hparams.test_wer_file, \"w\") as w:\n",
        "                    self.wer_metric.write_stats(w)\n",
        "\n",
        "    def fit_batch(self, batch):\n",
        "        \"\"\"Performs a forward + backward pass on 1 batch\n",
        "        \"\"\"\n",
        "\n",
        "        should_step = self.step % self.grad_accumulation_factor == 0\n",
        "\n",
        "        outputs = self.compute_forward(batch, sb.Stage.TRAIN)\n",
        "        loss = self.compute_objectives(outputs, batch, sb.Stage.TRAIN)\n",
        "        loss.backward()\n",
        "        if self.check_gradients(loss):\n",
        "            self.optimizer.step()\n",
        "        self.zero_grad()\n",
        "        self.optimizer_step += 1\n",
        "        self.hparams.noam_annealing(self.optimizer)\n",
        "\n",
        "        self.on_fit_batch_end(batch, outputs, loss, should_step)\n",
        "        return loss.detach().cpu()"
      ]
    },
    {
      "cell_type": "code",
      "execution_count": 9,
      "metadata": {
        "id": "DDQEQ8M2MNAi"
      },
      "outputs": [],
      "source": [
        "task_hyperparameters = \"\"\"\n",
        "# Setup the directory to host experiment results\n",
        "output_folder: !ref results/transformer/Task_1\n",
        "wer_file: !ref <output_folder>/wer.txt\n",
        "save_folder: !ref <output_folder>/save\n",
        "train_log: !ref <output_folder>/train_log.txt\n",
        "\n",
        "train_logger: !new:speechbrain.utils.train_logger.FileTrainLogger\n",
        "    save_file: !ref <train_log>\n",
        "\n",
        "checkpointer: !new:speechbrain.utils.checkpoints.Checkpointer\n",
        "    checkpoints_dir: !ref <save_folder>\n",
        "    recoverables:\n",
        "        model: !ref <model>\n",
        "        noam_scheduler: !ref <noam_annealing>\n",
        "        normalizer: !ref <normalize>\n",
        "        counter: !ref <epoch_counter>\n",
        "\"\"\""
      ]
    },
    {
      "cell_type": "code",
      "execution_count": 10,
      "metadata": {
        "colab": {
          "base_uri": "https://localhost:8080/",
          "height": 532
        },
        "id": "tGonNC7u8hlJ",
        "outputId": "40ae87fa-4126-4fcd-849f-2b17da693085"
      },
      "outputs": [
        {
          "name": "stdout",
          "output_type": "stream",
          "text": [
            "speechbrain.core - Beginning experiment!\n",
            "speechbrain.core - Experiment folder: results/transformer/Task_1\n"
          ]
        },
        {
          "name": "stdout",
          "output_type": "stream",
          "text": [
            "speechbrain.pretrained.fetching - Destination tokenizer.ckpt: local file in /users/ug21/atishay/speechbrain/results/tokenizer/tokenizer.ckpt.\n",
            "speechbrain.utils.parameter_transfer - Set local path in self.paths[tokenizer] = model_checkpoints/tokenizer.ckpt\n",
            "speechbrain.utils.parameter_transfer - Loading pretrained files for: tokenizer\n",
            "speechbrain.utils.parameter_transfer - Redirecting (loading from local path): model_checkpoints/tokenizer.ckpt -> model_checkpoints/tokenizer.ckpt\n",
            "speechbrain.core - Info: max_grad_norm arg from hparam file is used\n",
            "speechbrain.core - Info: ckpt_interval_minutes arg from hparam file is used\n",
            "speechbrain.core - 698.9k trainable parameters in BaseASR\n"
          ]
        },
        {
          "data": {
            "text/plain": [
              "'\\nasr_brain.fit(\\n    asr_brain.hparams.epoch_counter,\\n    train_data,\\n    valid_data,\\n    train_loader_kwargs=train_dataloader_opts,\\n    valid_loader_kwargs=valid_dataloader_opts\\n)\\n\\n# Testing\\nasr_brain.hparams.test_wer_file = asr_brain.hparams.wer_file\\nasr_brain.evaluate(\\n    test_data,\\n    max_key=\"epoch\",\\n    test_loader_kwargs=hparams[\"test_dataloader_opts\"],\\n)\\n'"
            ]
          },
          "execution_count": 10,
          "metadata": {},
          "output_type": "execute_result"
        }
      ],
      "source": [
        "hyperparams = global_hyperparams + task_hyperparameters\n",
        "hparams = load_hyperpyyaml(hyperparams)\n",
        "\n",
        "# Create experiment directory\n",
        "sb.create_experiment_directory(\n",
        "    experiment_directory=hparams[\"output_folder\"],\n",
        "    overrides=None,\n",
        ")\n",
        "\n",
        "# Here we create the datasets objects as well as tokenization and encoding\n",
        "(\n",
        "    train_data,\n",
        "    valid_data,\n",
        "    test_data,\n",
        "    tokenizer\n",
        ") = dataio_prepare(hparams)\n",
        "\n",
        "# We download the pretrained LM from HuggingFace (or elsewhere depending on\n",
        "# the path given in the YAML file). The tokenizer is loaded at the same time.\n",
        "run_on_main(hparams[\"pretrainer\"].collect_files)\n",
        "hparams[\"pretrainer\"].load_collected(device=run_opts[\"device\"])\n",
        "\n",
        "# Trainer initialization\n",
        "asr_brain = BaseASR(\n",
        "    modules=hparams[\"modules\"],\n",
        "    opt_class=hparams[\"Adam\"],\n",
        "    hparams=hparams,\n",
        "    checkpointer=hparams[\"checkpointer\"],\n",
        "    run_opts=run_opts,\n",
        "    tokenizer=tokenizer,\n",
        ")\n",
        "\n",
        "# adding objects to trainer:\n",
        "train_dataloader_opts = hparams[\"train_dataloader_opts\"]\n",
        "valid_dataloader_opts = hparams[\"valid_dataloader_opts\"]\n",
        "\n",
        "# Training\n",
        "'''\n",
        "asr_brain.fit(\n",
        "    asr_brain.hparams.epoch_counter,\n",
        "    train_data,\n",
        "    valid_data,\n",
        "    train_loader_kwargs=train_dataloader_opts,\n",
        "    valid_loader_kwargs=valid_dataloader_opts\n",
        ")\n",
        "\n",
        "# Testing\n",
        "asr_brain.hparams.test_wer_file = asr_brain.hparams.wer_file\n",
        "asr_brain.evaluate(\n",
        "    test_data,\n",
        "    max_key=\"epoch\",\n",
        "    test_loader_kwargs=hparams[\"test_dataloader_opts\"],\n",
        ")\n",
        "'''"
      ]
    },
    {
      "cell_type": "markdown",
      "metadata": {
        "id": "wHIRKDrPPRGW"
      },
      "source": [
        "# Part II(A): CTC is all you need\n",
        "In this section, you will train a **6-layer Conformer** encoder with both  `CTC` and `inter-CTC` losses.\n",
        "\n",
        "> Indented block\n",
        "\n"
      ]
    },
    {
      "cell_type": "code",
      "execution_count": 11,
      "metadata": {
        "id": "SdoAx39-pSAw"
      },
      "outputs": [],
      "source": [
        "class ASR_2A(BaseASR):\n",
        "    def __init__(\n",
        "        self, *args, **kwargs\n",
        "    ):\n",
        "        super().__init__(*args, **kwargs)\n",
        "        self.inter_ctc_weight = self.hparams.interctc_weight\n",
        "        self.intermediate_layers = [int(layer) for layer in self.hparams.intermediate_layers.split(',')]\n",
        "        # Variable to hold intermediate logits for interCTC loss calculation\n",
        "        self.inter_logits = []\n",
        "\n",
        "        # TODO: Define a helper function get_intermediate_output for the forward hook\n",
        "        def get_intermediate_output(module, input, output):\n",
        "            # TODO: Complete this function\n",
        "            self.inter_logits.append(output[0])\n",
        "\n",
        "        # TODO: Register hooks for all the intermediate encoder layers of interest.\n",
        "        # TODO: Refer to register_forward_hook (https://pytorch.org/docs/stable/generated/torch.nn.modules.module.register_module_forward_hook.html)\n",
        "        # TODO: Save all the hooks in a list self.hooks that you can remove later from the module\n",
        "        self.hooks = []\n",
        "        for layer in self.intermediate_layers:\n",
        "            module = self.modules.Transformer.encoder.layers[layer-1]\n",
        "            hook = module.register_forward_hook(get_intermediate_output)\n",
        "            self.hooks.append(hook)\n",
        "\n",
        "    def compute_forward(self, batch, stage):\n",
        "        \"\"\"Performs a forward pass through the encoder\"\"\"\n",
        "        batch = batch.to(self.device)\n",
        "        wavs, wav_lens = batch.sig\n",
        "        tokens_bos, _ = batch.tokens_bos\n",
        "\n",
        "        # compute features\n",
        "        feats = self.hparams.compute_features(wavs)\n",
        "        current_epoch = self.hparams.epoch_counter.current\n",
        "        feats = self.modules.normalize(feats, wav_lens, epoch=current_epoch)\n",
        "\n",
        "        # forward modules\n",
        "        src = self.modules.CNN(feats)\n",
        "\n",
        "        assert len(self.inter_logits) == 0, \"self.inter_logits should be empty as we haven't done a forward pass yet\"\n",
        "        enc_out, _ = self.modules.Transformer(\n",
        "            src, tokens_bos, wav_lens, pad_idx=self.hparams.pad_index,\n",
        "        )\n",
        "\n",
        "        # Compute final layer logit\n",
        "        logits = self.modules.ctc_lin(enc_out)\n",
        "        p_ctc = self.hparams.log_softmax(logits)\n",
        "\n",
        "        # TODO: Append all the intermediate layer logits to the following list: inter_p_ctc\n",
        "        # TODO: Go through all the layers in intermediate_layers. Note that the comma-separated list in intermediate_layers is 1-indexed.\n",
        "        # TODO: Complete code below to populate inter_p_ctc\n",
        "        inter_p_ctc = []\n",
        "        #for i in self.inter_logits:  # [2,4]\n",
        "        #    inter_p_ctc.append(i)\n",
        "        for i in self.inter_logits:\n",
        "            logit = self.modules.ctc_lin(i)\n",
        "            ip_ctc = self.hparams.log_softmax(logit)\n",
        "            inter_p_ctc.append(ip_ctc)\n",
        "        # Flush the logits saved during last forward pass.\n",
        "        self.inter_logits = []\n",
        "        # Compute outputs\n",
        "        hyps = None\n",
        "        if stage == sb.Stage.TRAIN:\n",
        "            assert len(inter_p_ctc) != 0 , \"inter_p_ctc should NOT be empty as forward pass is already done\"\n",
        "            hyps = None\n",
        "        else:\n",
        "            hyps = sb.decoders.ctc_greedy_decode(\n",
        "                p_ctc, wav_lens, blank_id=self.hparams.blank_index\n",
        "            )\n",
        "\n",
        "        return p_ctc, inter_p_ctc, wav_lens, hyps\n",
        "\n",
        "    def on_evaluate_start(self, max_key=None, min_key=None):\n",
        "        \"\"\"Performs sanity operations before inferencing on the test set.\"\"\"\n",
        "        if self.checkpointer is not None:\n",
        "            self.checkpointer.recover_if_possible(\n",
        "                max_key=max_key,\n",
        "                min_key=min_key,\n",
        "                device=torch.device(self.device),\n",
        "            )\n",
        "\n",
        "        # Deregister hooks here as they are not needed during evaluation\n",
        "        for hook in self.hooks:\n",
        "            hook.remove()\n",
        "\n",
        "    def compute_objectives(self, predictions, batch, stage):\n",
        "        \"\"\"Computes the CTC + inter-CTC loss given predictions and targets.\"\"\"\n",
        "\n",
        "        (p_ctc, inter_p_ctc, wav_lens, hyps,) = predictions\n",
        "\n",
        "        ids = batch.id\n",
        "        tokens_eos, tokens_eos_lens = batch.tokens_eos\n",
        "        tokens, tokens_lens = batch.tokens\n",
        "        # TODO: Compute inter-CTC loss\n",
        "        loss_inter_ctc = 0.0 #### COMPLETE THIS ####\n",
        "        for i in inter_p_ctc:\n",
        "            inter_loss = self.hparams.ctc_cost(i, tokens, wav_lens, tokens_lens)\n",
        "            loss_inter_ctc += inter_loss\n",
        "\n",
        "        # TODO: Write code to appropriately accumulate the inter-CTC loss in loss_inter_ctc\n",
        "        # TODO: using the softmax probabilities saved for each intermediate layer in inter_p_ctc\n",
        "\n",
        "        # Compute final layer CTC loss\n",
        "        loss_ctc = self.hparams.ctc_cost(p_ctc, tokens, wav_lens, tokens_lens) #### TODO: FILL THIS BASED ON PART I ####\n",
        "\n",
        "        # Compute final loss as a weighted combination of inter-CTC and CTC\n",
        "        loss = self.inter_ctc_weight * loss_inter_ctc + (1 - self.inter_ctc_weight) * loss_ctc\n",
        "\n",
        "        if stage != sb.Stage.TRAIN:\n",
        "            # Decode token terms to words\n",
        "            predicted_words = [\n",
        "                    self.tokenizer.decode_ids(utt_seq).split(\" \") for utt_seq in hyps\n",
        "                ]\n",
        "            target_words = [wrd.split(\" \") for wrd in batch.wrd]\n",
        "            self.wer_metric.append(ids, predicted_words, target_words)\n",
        "            self.cer_metric.append(ids, predicted_words, target_words)\n",
        "\n",
        "        return loss"
      ]
    },
    {
      "cell_type": "code",
      "execution_count": 12,
      "metadata": {
        "id": "aoIb-4TdnyC4"
      },
      "outputs": [],
      "source": [
        "task_hyperparameters = \"\"\"\n",
        "\n",
        "# Setup the directory to host experiment results\n",
        "output_folder: !ref results/transformer/Part_2A\n",
        "wer_file: !ref <output_folder>/wer.txt\n",
        "save_folder: !ref <output_folder>/save\n",
        "train_log: !ref <output_folder>/train_log.txt\n",
        "\n",
        "interctc_weight: 0.3\n",
        "intermediate_layers: '2,4'\n",
        "\n",
        "train_logger: !new:speechbrain.utils.train_logger.FileTrainLogger\n",
        "    save_file: !ref <train_log>\n",
        "\n",
        "checkpointer: !new:speechbrain.utils.checkpoints.Checkpointer\n",
        "    checkpoints_dir: !ref <save_folder>\n",
        "    recoverables:\n",
        "        model: !ref <model>\n",
        "        noam_scheduler: !ref <noam_annealing>\n",
        "        normalizer: !ref <normalize>\n",
        "        counter: !ref <epoch_counter>\n",
        "\"\"\""
      ]
    },
    {
      "cell_type": "code",
      "execution_count": 13,
      "metadata": {
        "id": "AX-kl1dKMx-Q"
      },
      "outputs": [
        {
          "name": "stdout",
          "output_type": "stream",
          "text": [
            "speechbrain.core - Beginning experiment!\n",
            "speechbrain.core - Experiment folder: results/transformer/Part_2A\n"
          ]
        },
        {
          "name": "stdout",
          "output_type": "stream",
          "text": [
            "speechbrain.pretrained.fetching - Fetch tokenizer.ckpt: Using existing file/symlink in model_checkpoints/tokenizer.ckpt.\n",
            "speechbrain.utils.parameter_transfer - Set local path in self.paths[tokenizer] = model_checkpoints/tokenizer.ckpt\n",
            "speechbrain.utils.parameter_transfer - Loading pretrained files for: tokenizer\n",
            "speechbrain.utils.parameter_transfer - Redirecting (loading from local path): model_checkpoints/tokenizer.ckpt -> model_checkpoints/tokenizer.ckpt\n",
            "speechbrain.core - Info: max_grad_norm arg from hparam file is used\n",
            "speechbrain.core - Info: ckpt_interval_minutes arg from hparam file is used\n",
            "speechbrain.core - 698.9k trainable parameters in ASR_2A\n"
          ]
        },
        {
          "data": {
            "text/plain": [
              "'\\n# Training\\nasr_brain.fit(\\n    asr_brain.hparams.epoch_counter,\\n    train_data,\\n    valid_data,\\n    train_loader_kwargs=train_dataloader_opts,\\n    valid_loader_kwargs=valid_dataloader_opts\\n)\\n\\n# Testing\\n\\nasr_brain.hparams.test_wer_file = asr_brain.hparams.wer_file\\nasr_brain.evaluate(\\n    test_data,\\n    max_key=\"ACC\",\\n    test_loader_kwargs=hparams[\"test_dataloader_opts\"],\\n)\\n'"
            ]
          },
          "execution_count": 13,
          "metadata": {},
          "output_type": "execute_result"
        }
      ],
      "source": [
        "# Commenting out the Q2A training part in Q2B notebook\n",
        "\n",
        "\n",
        "hyperparams = global_hyperparams + task_hyperparameters\n",
        "hparams = load_hyperpyyaml(hyperparams)\n",
        "\n",
        "# Create experiment directory\n",
        "sb.create_experiment_directory(\n",
        "    experiment_directory=hparams[\"output_folder\"],\n",
        "    overrides=None,\n",
        ")\n",
        "\n",
        "# We download the pretrained LM from HuggingFace (or elsewhere depending on\n",
        "# the path given in the YAML file). The tokenizer is loaded at the same time.\n",
        "run_on_main(hparams[\"pretrainer\"].collect_files)\n",
        "hparams[\"pretrainer\"].load_collected(device=run_opts[\"device\"])\n",
        "\n",
        "# Trainer initialization\n",
        "asr_brain = ASR_2A(\n",
        "    modules=hparams[\"modules\"],\n",
        "    opt_class=hparams[\"Adam\"],\n",
        "    hparams=hparams,\n",
        "    checkpointer=hparams[\"checkpointer\"],\n",
        "    run_opts=run_opts,\n",
        "    tokenizer=tokenizer,\n",
        ")\n",
        "\n",
        "# adding objects to trainer:\n",
        "train_dataloader_opts = hparams[\"train_dataloader_opts\"]\n",
        "valid_dataloader_opts = hparams[\"valid_dataloader_opts\"]\n",
        "'''\n",
        "# Training\n",
        "asr_brain.fit(\n",
        "    asr_brain.hparams.epoch_counter,\n",
        "    train_data,\n",
        "    valid_data,\n",
        "    train_loader_kwargs=train_dataloader_opts,\n",
        "    valid_loader_kwargs=valid_dataloader_opts\n",
        ")\n",
        "\n",
        "# Testing\n",
        "\n",
        "asr_brain.hparams.test_wer_file = asr_brain.hparams.wer_file\n",
        "asr_brain.evaluate(\n",
        "    test_data,\n",
        "    max_key=\"ACC\",\n",
        "    test_loader_kwargs=hparams[\"test_dataloader_opts\"],\n",
        ")\n",
        "'''"
      ]
    },
    {
      "cell_type": "markdown",
      "metadata": {
        "id": "06q84-WOPblt"
      },
      "source": [
        "# Task 2.2: The PowerConv Module\n",
        "In this section, we will update the Conformer encoder by replacing Convolution with **PowerConv**. Rest of the architecture remains the same. Note this will be added on top of inter-CTC."
      ]
    },
    {
      "cell_type": "code",
      "execution_count": 14,
      "metadata": {
        "id": "BwQRTzBE3Qga"
      },
      "outputs": [],
      "source": [
        "task_hyperparameters = \"\"\"\n",
        "\n",
        "# Setup the directory to host experiment results\n",
        "output_folder: !ref results/transformer/Task_2B\n",
        "wer_file: !ref <output_folder>/wer.txt\n",
        "save_folder: !ref <output_folder>/save\n",
        "train_log: !ref <output_folder>/train_log.txt\n",
        "\n",
        "interctc_weight: 0.3\n",
        "intermediate_layers: '2,4'\n",
        "\n",
        "train_logger: !new:speechbrain.utils.train_logger.FileTrainLogger\n",
        "    save_file: !ref <train_log>\n",
        "\n",
        "checkpointer: !new:speechbrain.utils.checkpoints.Checkpointer\n",
        "    checkpoints_dir: !ref <save_folder>\n",
        "    recoverables:\n",
        "        model: !ref <model>\n",
        "        noam_scheduler: !ref <noam_annealing>\n",
        "        normalizer: !ref <normalize>\n",
        "        counter: !ref <epoch_counter>\n",
        "\"\"\""
      ]
    },
    {
      "cell_type": "code",
      "execution_count": 15,
      "metadata": {
        "id": "1gneZWFH7TmC"
      },
      "outputs": [],
      "source": [
        "import torch\n",
        "import speechbrain as sb\n",
        "\n",
        "from speechbrain.nnet.attention import (\n",
        "    RelPosMHAXL,\n",
        "    MultiheadAttention,\n",
        "    PositionalwiseFeedForward,\n",
        ")\n",
        "from speechbrain.nnet.normalization import LayerNorm\n",
        "from speechbrain.nnet.activations import Swish\n",
        "from speechbrain.nnet.CNN import Conv1d\n",
        "\n",
        "class PowerConv(torch.nn.Module):\n",
        "    def __init__(\n",
        "        self,\n",
        "        input_size,\n",
        "        kernel_size=31,\n",
        "        dropout=0.0,\n",
        "    ):\n",
        "        super().__init__()\n",
        "\n",
        "        # We upsample our input by a factor of 2 to\n",
        "        input_size = input_size*2\n",
        "        self.input_size = input_size\n",
        "\n",
        "        n_channels = input_size // 2  # split input channels\n",
        "\n",
        "        # TODO: First projection feedforward layer to upsample the input\n",
        "        self.channel_proj1 =  torch.nn.Linear(n_channels, input_size)### TODO: Fill in\n",
        "        self.norm = torch.nn.LayerNorm(n_channels) ### TODO: Layer normalization\n",
        "        ### TODO: Initialize depthwise 1D Convolution\n",
        "        self.conv = torch.nn.Conv1d(\n",
        "            in_channels = n_channels,\n",
        "            out_channels = n_channels,\n",
        "            kernel_size=kernel_size,\n",
        "            padding = (kernel_size-1)//2,\n",
        "            groups= n_channels\n",
        "        )\n",
        "        ### TODO: Use the groups parameter in the Conv1D class and set it to n_channels\n",
        "        ### TODO: Note that this conv operator does not change the feature dimensionality.\n",
        "        ### TODO: Use the appropriate value for the padding parameter in the Conv1D class to keep the feature dimensionality unaltered.\n",
        "\n",
        "        # TODO: Second projection feedforward layer\n",
        "        self.channel_proj2 = torch.nn.Linear(n_channels, n_channels)### TODO: Fill in\n",
        "        self.dropout = torch.nn.Dropout(p=dropout)### TODO: Dropout layer\n",
        "\n",
        "        # Initialize convolution with ones.\n",
        "        torch.nn.init.ones_(self.conv.bias)\n",
        "\n",
        "    def forward(self, x):\n",
        "        \"\"\"\n",
        "            Shape of input x: (B, T, D)\n",
        "            Return output of shape: (B, T, D)\n",
        "        \"\"\"\n",
        "        # TODO: Implement the PowerConv module as described in the assignment pdf\n",
        "        B,T,D = x.shape\n",
        "        x = self.norm(x)\n",
        "        v = self.channel_proj1(x)\n",
        "        v1 = v[:,:,:D]\n",
        "        v2 = v[:,:,D:]\n",
        "        v2 = self.norm(v2)\n",
        "        v2=v2.permute((0,2,1))\n",
        "        v2 = self.conv(v2)\n",
        "        v2=v2.permute((0,2,1))\n",
        "        z = v1*v2\n",
        "        o = self.channel_proj2(self.dropout(z))\n",
        "        return o\n",
        "\n",
        "class CustomConformerEncoderLayer(torch.nn.Module):\n",
        "    def __init__(\n",
        "        self,\n",
        "        d_model,\n",
        "        d_ffn,\n",
        "        nhead,\n",
        "        kernel_size=31,\n",
        "        kdim=None,\n",
        "        vdim=None,\n",
        "        activation=Swish,\n",
        "        bias=True,\n",
        "        dropout=0.0,\n",
        "        causal=False,\n",
        "        attention_type=\"RelPosMHAXL\",\n",
        "    ):\n",
        "        super().__init__()\n",
        "\n",
        "        # Self attention block\n",
        "        if attention_type == \"regularMHA\":\n",
        "            self.mha_layer = MultiheadAttention(\n",
        "                nhead=nhead,\n",
        "                d_model=d_model,\n",
        "                dropout=dropout,\n",
        "                kdim=kdim,\n",
        "                vdim=vdim,\n",
        "            )\n",
        "        elif attention_type == \"RelPosMHAXL\":\n",
        "            # transformerXL style positional encoding\n",
        "            self.mha_layer = RelPosMHAXL(\n",
        "                num_heads=nhead,\n",
        "                embed_dim=d_model,\n",
        "                dropout=dropout,\n",
        "                mask_pos_future=causal,\n",
        "            )\n",
        "        else:\n",
        "            raise ValueError(\"Unknown attention type\")\n",
        "\n",
        "        # Create instance of our custom convolution block\n",
        "        self.convolution_module = PowerConv(\n",
        "            d_model, kernel_size, dropout\n",
        "        )\n",
        "\n",
        "        # Feed forward macaron block\n",
        "        self.ffn_module1 = torch.nn.Sequential(\n",
        "            torch.nn.LayerNorm(d_model),\n",
        "            PositionalwiseFeedForward(\n",
        "                d_ffn=d_ffn,\n",
        "                input_size=d_model,\n",
        "                dropout=dropout,\n",
        "                activation=activation,\n",
        "            ),\n",
        "            torch.nn.Dropout(dropout),\n",
        "        )\n",
        "\n",
        "        # Feed forward block\n",
        "        self.ffn_module2 = torch.nn.Sequential(\n",
        "            torch.nn.LayerNorm(d_model),\n",
        "            PositionalwiseFeedForward(\n",
        "                d_ffn=d_ffn,\n",
        "                input_size=d_model,\n",
        "                dropout=dropout,\n",
        "                activation=activation,\n",
        "            ),\n",
        "            torch.nn.Dropout(dropout),\n",
        "        )\n",
        "\n",
        "        self.norm1 = LayerNorm(d_model)\n",
        "        self.norm2 = LayerNorm(d_model)\n",
        "        self.drop = torch.nn.Dropout(dropout)\n",
        "\n",
        "    def forward(\n",
        "        self,\n",
        "        x,\n",
        "        src_mask = None,\n",
        "        src_key_padding_mask = None,\n",
        "        pos_embs = None,\n",
        "    ):\n",
        "        conv_mask = None\n",
        "        if src_key_padding_mask is not None:\n",
        "            conv_mask = src_key_padding_mask.unsqueeze(-1)\n",
        "\n",
        "        # ffn module\n",
        "        x = x + 0.5 * self.ffn_module1(x)\n",
        "\n",
        "        # muti-head attention module\n",
        "        skip = x\n",
        "        x = self.norm1(x)\n",
        "        x, self_attn = self.mha_layer(\n",
        "            x,\n",
        "            x,\n",
        "            x,\n",
        "            attn_mask=src_mask,\n",
        "            key_padding_mask=src_key_padding_mask,\n",
        "            pos_embs=pos_embs,\n",
        "        )\n",
        "        x = x + skip\n",
        "\n",
        "        # convolution module\n",
        "        x = x + self.convolution_module(x)\n",
        "\n",
        "        # ffn module\n",
        "        x = self.norm2(x + 0.5 * self.ffn_module2(x))\n",
        "\n",
        "        return x, self_attn\n",
        "\n",
        "\n",
        "class CustomConformerEncoder(torch.nn.Module):\n",
        "    def __init__(\n",
        "        self,\n",
        "        num_layers,\n",
        "        d_model,\n",
        "        d_ffn,\n",
        "        nhead,\n",
        "        kernel_size=31,\n",
        "        kdim=None,\n",
        "        vdim=None,\n",
        "        activation=Swish,\n",
        "        bias=True,\n",
        "        dropout=0.0,\n",
        "        causal=False,\n",
        "        attention_type=\"RelPosMHAXL\",\n",
        "    ):\n",
        "        super().__init__()\n",
        "\n",
        "        # Create layers using our custom encoder layer that utilizes PowerConv\n",
        "        self.layers = torch.nn.ModuleList(\n",
        "            [\n",
        "                CustomConformerEncoderLayer(\n",
        "                    d_ffn=d_ffn,\n",
        "                    nhead=nhead,\n",
        "                    d_model=d_model,\n",
        "                    kdim=kdim,\n",
        "                    vdim=vdim,\n",
        "                    dropout=dropout,\n",
        "                    activation=activation,\n",
        "                    kernel_size=kernel_size,\n",
        "                    bias=bias,\n",
        "                    causal=causal,\n",
        "                    attention_type=attention_type,\n",
        "                )\n",
        "                for i in range(num_layers)\n",
        "            ]\n",
        "        )\n",
        "        self.norm = LayerNorm(d_model, eps=1e-6)\n",
        "        self.attention_type = attention_type\n",
        "\n",
        "    def forward(\n",
        "        self,\n",
        "        src,\n",
        "        src_mask = None,\n",
        "        src_key_padding_mask = None,\n",
        "        pos_embs = None,\n",
        "    ):\n",
        "\n",
        "        if self.attention_type == \"RelPosMHAXL\":\n",
        "            if pos_embs is None:\n",
        "                raise ValueError(\n",
        "                    \"The chosen attention type for the Conformer is RelPosMHAXL. For this attention type, the positional embeddings are mandatory\"\n",
        "                )\n",
        "\n",
        "        output = src\n",
        "        attention_lst = []\n",
        "        # Loop through the encoder layers\n",
        "        for enc_layer in self.layers:\n",
        "            output, attention = enc_layer(\n",
        "                output,\n",
        "                src_mask=src_mask,\n",
        "                src_key_padding_mask=src_key_padding_mask,\n",
        "                pos_embs=pos_embs,\n",
        "            )\n",
        "            attention_lst.append(attention)\n",
        "        output = self.norm(output)\n",
        "\n",
        "        return output, attention_lst"
      ]
    },
    {
      "cell_type": "code",
      "execution_count": 16,
      "metadata": {
        "id": "3wgsf3f27VuR"
      },
      "outputs": [],
      "source": [
        "class ASR_2B(ASR_2A):\n",
        "    def __init__(\n",
        "        self, device=\"cpu\", *args, **kwargs\n",
        "    ):\n",
        "        super().__init__(*args, **kwargs)\n",
        "\n",
        "        # Remove the old hooks as they are not useful\n",
        "        for hook in self.hooks:\n",
        "            hook.remove()\n",
        "\n",
        "        # Instantiate our custom encoder that uses PowerConv\n",
        "        encoder = CustomConformerEncoder(\n",
        "            nhead=self.hparams.nhead,\n",
        "            num_layers=self.hparams.num_encoder_layers,\n",
        "            d_ffn=self.hparams.d_ffn,\n",
        "            d_model=self.hparams.d_model,\n",
        "            dropout=self.hparams.transformer_dropout,\n",
        "            activation=self.hparams.activation,\n",
        "            attention_type=self.hparams.attention_type,\n",
        "        ).to(device)\n",
        "\n",
        "        # Replace the standard encoder with our encoder\n",
        "        self.modules.Transformer.encoder = encoder\n",
        "\n",
        "        def get_intermediate_output(module, input, output):\n",
        "            # TODO: Copy this code from your implemention in Part II(A)\n",
        "            self.inter_logits.append(output[0])\n",
        "\n",
        "        self.hooks = []\n",
        "        # TODO: Copy this code from your implemention in Part II(A) within the __init__ function of ASR_2A that populates self.hooks\n",
        "        for layer in self.intermediate_layers:\n",
        "            module = self.modules.Transformer.encoder.layers[layer-1]\n",
        "            hook = module.register_forward_hook(get_intermediate_output)\n",
        "            self.hooks.append(hook)"
      ]
    },
    {
      "cell_type": "code",
      "execution_count": 17,
      "metadata": {
        "id": "s1pcomwa-zwj"
      },
      "outputs": [
        {
          "name": "stdout",
          "output_type": "stream",
          "text": [
            "speechbrain.core - Beginning experiment!\n",
            "speechbrain.core - Experiment folder: results/transformer/Task_2B\n"
          ]
        },
        {
          "name": "stdout",
          "output_type": "stream",
          "text": [
            "speechbrain.pretrained.fetching - Fetch tokenizer.ckpt: Using existing file/symlink in model_checkpoints/tokenizer.ckpt.\n",
            "speechbrain.utils.parameter_transfer - Set local path in self.paths[tokenizer] = model_checkpoints/tokenizer.ckpt\n",
            "speechbrain.utils.parameter_transfer - Loading pretrained files for: tokenizer\n",
            "speechbrain.utils.parameter_transfer - Redirecting (loading from local path): model_checkpoints/tokenizer.ckpt -> model_checkpoints/tokenizer.ckpt\n",
            "speechbrain.core - Info: max_grad_norm arg from hparam file is used\n",
            "speechbrain.core - Info: ckpt_interval_minutes arg from hparam file is used\n",
            "speechbrain.core - 698.9k trainable parameters in ASR_2B\n",
            "speechbrain.utils.checkpoints - Loading a checkpoint from results/transformer/Task_2B/save/CKPT+2024-02-18+23-10-50+00\n",
            "speechbrain.utils.epoch_loop - Going into epoch 6\n"
          ]
        },
        {
          "name": "stderr",
          "output_type": "stream",
          "text": [
            "100%|██████████| 190/190 [00:54<00:00,  3.47it/s, train_loss=464]\n",
            "100%|██████████| 137/137 [00:38<00:00,  3.55it/s]"
          ]
        },
        {
          "name": "stdout",
          "output_type": "stream",
          "text": [
            "speechbrain.utils.train_logger - epoch: 6, lr: 7.59e-04, steps: 1140, optimizer: Adam - train loss: 4.64e+02 - valid loss: 2.36e+02, valid CER: 73.61, valid WER: 94.60\n",
            "speechbrain.utils.checkpoints - Saved an end-of-epoch checkpoint in results/transformer/Task_2B/save/CKPT+2024-02-18+23-20-40+00\n",
            "speechbrain.utils.epoch_loop - Going into epoch 7\n"
          ]
        },
        {
          "name": "stderr",
          "output_type": "stream",
          "text": [
            "\n",
            "100%|██████████| 190/190 [00:40<00:00,  4.71it/s, train_loss=418]\n",
            "100%|██████████| 137/137 [00:37<00:00,  3.69it/s]"
          ]
        },
        {
          "name": "stdout",
          "output_type": "stream",
          "text": [
            "speechbrain.utils.train_logger - epoch: 7, lr: 8.86e-04, steps: 1330, optimizer: Adam - train loss: 4.18e+02 - valid loss: 2.15e+02, valid CER: 64.36, valid WER: 91.72\n",
            "speechbrain.utils.checkpoints - Saved an end-of-epoch checkpoint in results/transformer/Task_2B/save/CKPT+2024-02-18+23-21-58+00\n",
            "speechbrain.utils.epoch_loop - Going into epoch 8\n"
          ]
        },
        {
          "name": "stderr",
          "output_type": "stream",
          "text": [
            "\n",
            "100%|██████████| 190/190 [00:44<00:00,  4.28it/s, train_loss=384]\n",
            "100%|██████████| 137/137 [00:41<00:00,  3.28it/s]"
          ]
        },
        {
          "name": "stdout",
          "output_type": "stream",
          "text": [
            "speechbrain.utils.train_logger - epoch: 8, lr: 9.94e-04, steps: 1520, optimizer: Adam - train loss: 3.84e+02 - valid loss: 2.01e+02, valid CER: 58.55, valid WER: 89.67\n",
            "speechbrain.utils.checkpoints - Saved an end-of-epoch checkpoint in results/transformer/Task_2B/save/CKPT+2024-02-18+23-23-24+00\n",
            "speechbrain.utils.epoch_loop - Going into epoch 9\n"
          ]
        },
        {
          "name": "stderr",
          "output_type": "stream",
          "text": [
            "\n",
            "100%|██████████| 190/190 [00:49<00:00,  3.87it/s, train_loss=355]\n",
            "100%|██████████| 137/137 [00:27<00:00,  4.95it/s]"
          ]
        },
        {
          "name": "stdout",
          "output_type": "stream",
          "text": [
            "speechbrain.utils.train_logger - epoch: 9, lr: 9.37e-04, steps: 1710, optimizer: Adam - train loss: 3.55e+02 - valid loss: 1.90e+02, valid CER: 55.04, valid WER: 87.84\n",
            "speechbrain.utils.checkpoints - Saved an end-of-epoch checkpoint in results/transformer/Task_2B/save/CKPT+2024-02-18+23-24-41+00\n",
            "speechbrain.utils.epoch_loop - Going into epoch 10\n"
          ]
        },
        {
          "name": "stderr",
          "output_type": "stream",
          "text": [
            "\n",
            "100%|██████████| 190/190 [00:44<00:00,  4.23it/s, train_loss=334]\n",
            "100%|██████████| 137/137 [00:17<00:00,  7.64it/s]"
          ]
        },
        {
          "name": "stdout",
          "output_type": "stream",
          "text": [
            "speechbrain.utils.train_logger - epoch: 10, lr: 8.89e-04, steps: 1900, optimizer: Adam - train loss: 3.34e+02 - valid loss: 1.83e+02, valid CER: 53.00, valid WER: 86.81\n",
            "speechbrain.utils.checkpoints - Saved an end-of-epoch checkpoint in results/transformer/Task_2B/save/CKPT+2024-02-18+23-25-44+00\n",
            "speechbrain.utils.epoch_loop - Going into epoch 11\n"
          ]
        },
        {
          "name": "stderr",
          "output_type": "stream",
          "text": [
            "\n",
            "100%|██████████| 190/190 [00:36<00:00,  5.26it/s, train_loss=316]\n",
            "100%|██████████| 137/137 [00:17<00:00,  7.68it/s]"
          ]
        },
        {
          "name": "stdout",
          "output_type": "stream",
          "text": [
            "speechbrain.utils.train_logger - epoch: 11, lr: 8.47e-04, steps: 2090, optimizer: Adam - train loss: 3.16e+02 - valid loss: 1.76e+02, valid CER: 49.87, valid WER: 85.21\n",
            "speechbrain.utils.checkpoints - Saved an end-of-epoch checkpoint in results/transformer/Task_2B/save/CKPT+2024-02-18+23-26-38+00\n"
          ]
        },
        {
          "name": "stderr",
          "output_type": "stream",
          "text": [
            "\n"
          ]
        },
        {
          "name": "stdout",
          "output_type": "stream",
          "text": [
            "speechbrain.utils.checkpoints - Deleted checkpoint in results/transformer/Task_2B/save/CKPT+2024-02-18+22-36-05+00\n",
            "speechbrain.utils.epoch_loop - Going into epoch 12\n"
          ]
        },
        {
          "name": "stderr",
          "output_type": "stream",
          "text": [
            "100%|██████████| 190/190 [00:39<00:00,  4.81it/s, train_loss=302]\n",
            "100%|██████████| 137/137 [00:19<00:00,  7.02it/s]"
          ]
        },
        {
          "name": "stdout",
          "output_type": "stream",
          "text": [
            "speechbrain.utils.train_logger - epoch: 12, lr: 8.11e-04, steps: 2280, optimizer: Adam - train loss: 3.02e+02 - valid loss: 1.72e+02, valid CER: 48.37, valid WER: 84.07\n",
            "speechbrain.utils.checkpoints - Saved an end-of-epoch checkpoint in results/transformer/Task_2B/save/CKPT+2024-02-18+23-27-37+00\n"
          ]
        },
        {
          "name": "stderr",
          "output_type": "stream",
          "text": [
            "\n"
          ]
        },
        {
          "name": "stdout",
          "output_type": "stream",
          "text": [
            "speechbrain.utils.checkpoints - Deleted checkpoint in results/transformer/Task_2B/save/CKPT+2024-02-18+23-06-47+00\n",
            "speechbrain.utils.epoch_loop - Going into epoch 13\n"
          ]
        },
        {
          "name": "stderr",
          "output_type": "stream",
          "text": [
            "100%|██████████| 190/190 [00:39<00:00,  4.76it/s, train_loss=289]\n",
            "100%|██████████| 137/137 [00:20<00:00,  6.66it/s]"
          ]
        },
        {
          "name": "stdout",
          "output_type": "stream",
          "text": [
            "speechbrain.utils.train_logger - epoch: 13, lr: 7.79e-04, steps: 2470, optimizer: Adam - train loss: 2.89e+02 - valid loss: 1.67e+02, valid CER: 45.66, valid WER: 82.91\n",
            "speechbrain.utils.checkpoints - Saved an end-of-epoch checkpoint in results/transformer/Task_2B/save/CKPT+2024-02-18+23-28-38+00\n"
          ]
        },
        {
          "name": "stderr",
          "output_type": "stream",
          "text": [
            "\n"
          ]
        },
        {
          "name": "stdout",
          "output_type": "stream",
          "text": [
            "speechbrain.utils.checkpoints - Deleted checkpoint in results/transformer/Task_2B/save/CKPT+2024-02-18+23-08-07+00\n",
            "speechbrain.utils.epoch_loop - Going into epoch 14\n"
          ]
        },
        {
          "name": "stderr",
          "output_type": "stream",
          "text": [
            "100%|██████████| 190/190 [00:34<00:00,  5.57it/s, train_loss=279]\n",
            "100%|██████████| 137/137 [00:20<00:00,  6.53it/s]"
          ]
        },
        {
          "name": "stdout",
          "output_type": "stream",
          "text": [
            "speechbrain.utils.train_logger - epoch: 14, lr: 7.51e-04, steps: 2660, optimizer: Adam - train loss: 2.79e+02 - valid loss: 1.64e+02, valid CER: 44.38, valid WER: 81.97\n",
            "speechbrain.utils.checkpoints - Saved an end-of-epoch checkpoint in results/transformer/Task_2B/save/CKPT+2024-02-18+23-29-33+00\n"
          ]
        },
        {
          "name": "stderr",
          "output_type": "stream",
          "text": [
            "\n"
          ]
        },
        {
          "name": "stdout",
          "output_type": "stream",
          "text": [
            "speechbrain.utils.checkpoints - Deleted checkpoint in results/transformer/Task_2B/save/CKPT+2024-02-18+23-09-23+00\n",
            "speechbrain.utils.epoch_loop - Going into epoch 15\n"
          ]
        },
        {
          "name": "stderr",
          "output_type": "stream",
          "text": [
            "100%|██████████| 190/190 [00:33<00:00,  5.65it/s, train_loss=269]\n",
            "100%|██████████| 137/137 [00:21<00:00,  6.34it/s]"
          ]
        },
        {
          "name": "stdout",
          "output_type": "stream",
          "text": [
            "speechbrain.utils.train_logger - epoch: 15, lr: 7.26e-04, steps: 2850, optimizer: Adam - train loss: 2.69e+02 - valid loss: 1.61e+02, valid CER: 43.13, valid WER: 81.39\n",
            "speechbrain.utils.checkpoints - Saved an end-of-epoch checkpoint in results/transformer/Task_2B/save/CKPT+2024-02-18+23-30-29+00\n"
          ]
        },
        {
          "name": "stderr",
          "output_type": "stream",
          "text": [
            "\n"
          ]
        },
        {
          "name": "stdout",
          "output_type": "stream",
          "text": [
            "speechbrain.utils.checkpoints - Deleted checkpoint in results/transformer/Task_2B/save/CKPT+2024-02-18+23-10-50+00\n",
            "speechbrain.utils.epoch_loop - Going into epoch 16\n"
          ]
        },
        {
          "name": "stderr",
          "output_type": "stream",
          "text": [
            "100%|██████████| 190/190 [00:32<00:00,  5.85it/s, train_loss=261]\n",
            "100%|██████████| 137/137 [00:22<00:00,  6.19it/s]"
          ]
        },
        {
          "name": "stdout",
          "output_type": "stream",
          "text": [
            "speechbrain.utils.train_logger - epoch: 16, lr: 7.03e-04, steps: 3040, optimizer: Adam - train loss: 2.61e+02 - valid loss: 1.59e+02, valid CER: 41.96, valid WER: 80.62\n"
          ]
        },
        {
          "name": "stderr",
          "output_type": "stream",
          "text": [
            "\n"
          ]
        },
        {
          "name": "stdout",
          "output_type": "stream",
          "text": [
            "speechbrain.utils.checkpoints - Saved an end-of-epoch checkpoint in results/transformer/Task_2B/save/CKPT+2024-02-18+23-31-24+00\n",
            "speechbrain.utils.checkpoints - Deleted checkpoint in results/transformer/Task_2B/save/CKPT+2024-02-18+23-20-40+00\n",
            "speechbrain.utils.epoch_loop - Going into epoch 17\n"
          ]
        },
        {
          "name": "stderr",
          "output_type": "stream",
          "text": [
            "100%|██████████| 190/190 [00:29<00:00,  6.55it/s, train_loss=253]\n",
            "100%|██████████| 137/137 [00:15<00:00,  8.65it/s]"
          ]
        },
        {
          "name": "stdout",
          "output_type": "stream",
          "text": [
            "speechbrain.utils.train_logger - epoch: 17, lr: 6.82e-04, steps: 3230, optimizer: Adam - train loss: 2.53e+02 - valid loss: 1.57e+02, valid CER: 41.32, valid WER: 80.02\n"
          ]
        },
        {
          "name": "stderr",
          "output_type": "stream",
          "text": [
            "\n"
          ]
        },
        {
          "name": "stdout",
          "output_type": "stream",
          "text": [
            "speechbrain.utils.checkpoints - Saved an end-of-epoch checkpoint in results/transformer/Task_2B/save/CKPT+2024-02-18+23-32-09+00\n",
            "speechbrain.utils.checkpoints - Deleted checkpoint in results/transformer/Task_2B/save/CKPT+2024-02-18+23-21-58+00\n",
            "speechbrain.utils.epoch_loop - Going into epoch 18\n"
          ]
        },
        {
          "name": "stderr",
          "output_type": "stream",
          "text": [
            "100%|██████████| 190/190 [00:30<00:00,  6.16it/s, train_loss=247]\n",
            "100%|██████████| 137/137 [00:14<00:00,  9.15it/s]"
          ]
        },
        {
          "name": "stdout",
          "output_type": "stream",
          "text": [
            "speechbrain.utils.train_logger - epoch: 18, lr: 6.62e-04, steps: 3420, optimizer: Adam - train loss: 2.47e+02 - valid loss: 1.55e+02, valid CER: 40.79, valid WER: 79.52\n",
            "speechbrain.utils.checkpoints - Saved an end-of-epoch checkpoint in results/transformer/Task_2B/save/CKPT+2024-02-18+23-32-55+00\n"
          ]
        },
        {
          "name": "stderr",
          "output_type": "stream",
          "text": [
            "\n"
          ]
        },
        {
          "name": "stdout",
          "output_type": "stream",
          "text": [
            "speechbrain.utils.checkpoints - Deleted checkpoint in results/transformer/Task_2B/save/CKPT+2024-02-18+23-23-24+00\n",
            "speechbrain.utils.epoch_loop - Going into epoch 19\n"
          ]
        },
        {
          "name": "stderr",
          "output_type": "stream",
          "text": [
            "100%|██████████| 190/190 [00:31<00:00,  6.05it/s, train_loss=240]\n",
            "100%|██████████| 137/137 [00:15<00:00,  8.60it/s]"
          ]
        },
        {
          "name": "stdout",
          "output_type": "stream",
          "text": [
            "speechbrain.utils.train_logger - epoch: 19, lr: 6.45e-04, steps: 3610, optimizer: Adam - train loss: 2.40e+02 - valid loss: 1.54e+02, valid CER: 40.25, valid WER: 78.50\n"
          ]
        },
        {
          "name": "stderr",
          "output_type": "stream",
          "text": [
            "\n"
          ]
        },
        {
          "name": "stdout",
          "output_type": "stream",
          "text": [
            "speechbrain.utils.checkpoints - Saved an end-of-epoch checkpoint in results/transformer/Task_2B/save/CKPT+2024-02-18+23-33-42+00\n",
            "speechbrain.utils.checkpoints - Deleted checkpoint in results/transformer/Task_2B/save/CKPT+2024-02-18+23-24-41+00\n",
            "speechbrain.utils.epoch_loop - Going into epoch 20\n"
          ]
        },
        {
          "name": "stderr",
          "output_type": "stream",
          "text": [
            "100%|██████████| 190/190 [00:29<00:00,  6.46it/s, train_loss=234]\n",
            "100%|██████████| 137/137 [00:15<00:00,  8.80it/s]"
          ]
        },
        {
          "name": "stdout",
          "output_type": "stream",
          "text": [
            "speechbrain.utils.train_logger - epoch: 20, lr: 6.28e-04, steps: 3800, optimizer: Adam - train loss: 2.34e+02 - valid loss: 1.53e+02, valid CER: 39.91, valid WER: 78.22\n",
            "speechbrain.utils.checkpoints - Saved an end-of-epoch checkpoint in results/transformer/Task_2B/save/CKPT+2024-02-18+23-34-28+00\n"
          ]
        },
        {
          "name": "stderr",
          "output_type": "stream",
          "text": [
            "\n"
          ]
        },
        {
          "name": "stdout",
          "output_type": "stream",
          "text": [
            "speechbrain.utils.checkpoints - Deleted checkpoint in results/transformer/Task_2B/save/CKPT+2024-02-18+23-25-44+00\n",
            "speechbrain.utils.epoch_loop - Going into epoch 21\n"
          ]
        },
        {
          "name": "stderr",
          "output_type": "stream",
          "text": [
            "100%|██████████| 190/190 [00:31<00:00,  6.01it/s, train_loss=229]\n",
            "100%|██████████| 137/137 [00:17<00:00,  7.65it/s]"
          ]
        },
        {
          "name": "stdout",
          "output_type": "stream",
          "text": [
            "speechbrain.utils.train_logger - epoch: 21, lr: 6.13e-04, steps: 3990, optimizer: Adam - train loss: 2.29e+02 - valid loss: 1.51e+02, valid CER: 39.39, valid WER: 77.96\n",
            "speechbrain.utils.checkpoints - Saved an end-of-epoch checkpoint in results/transformer/Task_2B/save/CKPT+2024-02-18+23-35-17+00\n"
          ]
        },
        {
          "name": "stderr",
          "output_type": "stream",
          "text": [
            "\n"
          ]
        },
        {
          "name": "stdout",
          "output_type": "stream",
          "text": [
            "speechbrain.utils.checkpoints - Deleted checkpoint in results/transformer/Task_2B/save/CKPT+2024-02-18+23-26-38+00\n",
            "speechbrain.utils.epoch_loop - Going into epoch 22\n"
          ]
        },
        {
          "name": "stderr",
          "output_type": "stream",
          "text": [
            "100%|██████████| 190/190 [00:31<00:00,  5.99it/s, train_loss=224]\n",
            "100%|██████████| 137/137 [00:18<00:00,  7.52it/s]"
          ]
        },
        {
          "name": "stdout",
          "output_type": "stream",
          "text": [
            "speechbrain.utils.train_logger - epoch: 22, lr: 5.99e-04, steps: 4180, optimizer: Adam - train loss: 2.24e+02 - valid loss: 1.51e+02, valid CER: 38.73, valid WER: 77.79\n"
          ]
        },
        {
          "name": "stderr",
          "output_type": "stream",
          "text": [
            "\n"
          ]
        },
        {
          "name": "stdout",
          "output_type": "stream",
          "text": [
            "speechbrain.utils.checkpoints - Saved an end-of-epoch checkpoint in results/transformer/Task_2B/save/CKPT+2024-02-18+23-36-08+00\n",
            "speechbrain.utils.checkpoints - Deleted checkpoint in results/transformer/Task_2B/save/CKPT+2024-02-18+23-27-37+00\n",
            "speechbrain.utils.epoch_loop - Going into epoch 23\n"
          ]
        },
        {
          "name": "stderr",
          "output_type": "stream",
          "text": [
            "100%|██████████| 190/190 [00:31<00:00,  6.06it/s, train_loss=219]\n",
            "100%|██████████| 137/137 [00:17<00:00,  7.61it/s]"
          ]
        },
        {
          "name": "stdout",
          "output_type": "stream",
          "text": [
            "speechbrain.utils.train_logger - epoch: 23, lr: 5.86e-04, steps: 4370, optimizer: Adam - train loss: 2.19e+02 - valid loss: 1.50e+02, valid CER: 38.73, valid WER: 76.80\n"
          ]
        },
        {
          "name": "stderr",
          "output_type": "stream",
          "text": [
            "\n"
          ]
        },
        {
          "name": "stdout",
          "output_type": "stream",
          "text": [
            "speechbrain.utils.checkpoints - Saved an end-of-epoch checkpoint in results/transformer/Task_2B/save/CKPT+2024-02-18+23-36-57+00\n",
            "speechbrain.utils.checkpoints - Deleted checkpoint in results/transformer/Task_2B/save/CKPT+2024-02-18+23-28-38+00\n",
            "speechbrain.utils.epoch_loop - Going into epoch 24\n"
          ]
        },
        {
          "name": "stderr",
          "output_type": "stream",
          "text": [
            "100%|██████████| 190/190 [00:29<00:00,  6.36it/s, train_loss=215]\n",
            "100%|██████████| 137/137 [00:17<00:00,  8.02it/s]"
          ]
        },
        {
          "name": "stdout",
          "output_type": "stream",
          "text": [
            "speechbrain.utils.train_logger - epoch: 24, lr: 5.74e-04, steps: 4560, optimizer: Adam - train loss: 2.15e+02 - valid loss: 1.49e+02, valid CER: 38.34, valid WER: 76.58\n",
            "speechbrain.utils.checkpoints - Saved an end-of-epoch checkpoint in results/transformer/Task_2B/save/CKPT+2024-02-18+23-37-44+00\n"
          ]
        },
        {
          "name": "stderr",
          "output_type": "stream",
          "text": [
            "\n"
          ]
        },
        {
          "name": "stdout",
          "output_type": "stream",
          "text": [
            "speechbrain.utils.checkpoints - Deleted checkpoint in results/transformer/Task_2B/save/CKPT+2024-02-18+23-29-33+00\n",
            "speechbrain.utils.epoch_loop - Going into epoch 25\n"
          ]
        },
        {
          "name": "stderr",
          "output_type": "stream",
          "text": [
            "100%|██████████| 190/190 [00:29<00:00,  6.37it/s, train_loss=212]\n",
            "100%|██████████| 137/137 [00:17<00:00,  7.66it/s]"
          ]
        },
        {
          "name": "stdout",
          "output_type": "stream",
          "text": [
            "speechbrain.utils.train_logger - epoch: 25, lr: 5.62e-04, steps: 4750, optimizer: Adam - train loss: 2.12e+02 - valid loss: 1.48e+02, valid CER: 37.88, valid WER: 76.47\n"
          ]
        },
        {
          "name": "stderr",
          "output_type": "stream",
          "text": [
            "\n"
          ]
        },
        {
          "name": "stdout",
          "output_type": "stream",
          "text": [
            "speechbrain.utils.checkpoints - Saved an end-of-epoch checkpoint in results/transformer/Task_2B/save/CKPT+2024-02-18+23-38-32+00\n",
            "speechbrain.utils.checkpoints - Deleted checkpoint in results/transformer/Task_2B/save/CKPT+2024-02-18+23-30-29+00\n",
            "speechbrain.utils.epoch_loop - Going into epoch 26\n"
          ]
        },
        {
          "name": "stderr",
          "output_type": "stream",
          "text": [
            "100%|██████████| 190/190 [00:29<00:00,  6.50it/s, train_loss=208]\n",
            "100%|██████████| 137/137 [00:16<00:00,  8.36it/s]\n"
          ]
        },
        {
          "name": "stdout",
          "output_type": "stream",
          "text": [
            "speechbrain.utils.train_logger - epoch: 26, lr: 5.51e-04, steps: 4940, optimizer: Adam - train loss: 2.08e+02 - valid loss: 1.48e+02, valid CER: 37.41, valid WER: 76.14\n",
            "speechbrain.utils.checkpoints - Saved an end-of-epoch checkpoint in results/transformer/Task_2B/save/CKPT+2024-02-18+23-39-18+00\n",
            "speechbrain.utils.checkpoints - Deleted checkpoint in results/transformer/Task_2B/save/CKPT+2024-02-18+23-31-24+00\n",
            "speechbrain.utils.epoch_loop - Going into epoch 27\n"
          ]
        },
        {
          "name": "stderr",
          "output_type": "stream",
          "text": [
            "100%|██████████| 190/190 [00:30<00:00,  6.20it/s, train_loss=204]\n",
            "100%|██████████| 137/137 [00:15<00:00,  8.59it/s]"
          ]
        },
        {
          "name": "stdout",
          "output_type": "stream",
          "text": [
            "speechbrain.utils.train_logger - epoch: 27, lr: 5.41e-04, steps: 5130, optimizer: Adam - train loss: 2.04e+02 - valid loss: 1.47e+02, valid CER: 37.39, valid WER: 75.39\n",
            "speechbrain.utils.checkpoints - Saved an end-of-epoch checkpoint in results/transformer/Task_2B/save/CKPT+2024-02-18+23-40-05+00\n"
          ]
        },
        {
          "name": "stderr",
          "output_type": "stream",
          "text": [
            "\n"
          ]
        },
        {
          "name": "stdout",
          "output_type": "stream",
          "text": [
            "speechbrain.utils.checkpoints - Deleted checkpoint in results/transformer/Task_2B/save/CKPT+2024-02-18+23-32-09+00\n",
            "speechbrain.utils.epoch_loop - Going into epoch 28\n"
          ]
        },
        {
          "name": "stderr",
          "output_type": "stream",
          "text": [
            "100%|██████████| 190/190 [00:29<00:00,  6.45it/s, train_loss=201]\n",
            "100%|██████████| 137/137 [00:16<00:00,  8.41it/s]"
          ]
        },
        {
          "name": "stdout",
          "output_type": "stream",
          "text": [
            "speechbrain.utils.train_logger - epoch: 28, lr: 5.31e-04, steps: 5320, optimizer: Adam - train loss: 2.01e+02 - valid loss: 1.47e+02, valid CER: 37.20, valid WER: 75.47\n",
            "speechbrain.utils.checkpoints - Saved an end-of-epoch checkpoint in results/transformer/Task_2B/save/CKPT+2024-02-18+23-40-52+00\n"
          ]
        },
        {
          "name": "stderr",
          "output_type": "stream",
          "text": [
            "\n"
          ]
        },
        {
          "name": "stdout",
          "output_type": "stream",
          "text": [
            "speechbrain.utils.checkpoints - Deleted checkpoint in results/transformer/Task_2B/save/CKPT+2024-02-18+23-32-55+00\n",
            "speechbrain.utils.epoch_loop - Going into epoch 29\n"
          ]
        },
        {
          "name": "stderr",
          "output_type": "stream",
          "text": [
            "100%|██████████| 190/190 [00:27<00:00,  7.01it/s, train_loss=199]\n",
            "100%|██████████| 137/137 [00:14<00:00,  9.42it/s]"
          ]
        },
        {
          "name": "stdout",
          "output_type": "stream",
          "text": [
            "speechbrain.utils.train_logger - epoch: 29, lr: 5.22e-04, steps: 5510, optimizer: Adam - train loss: 1.99e+02 - valid loss: 1.47e+02, valid CER: 36.50, valid WER: 74.81\n",
            "speechbrain.utils.checkpoints - Saved an end-of-epoch checkpoint in results/transformer/Task_2B/save/CKPT+2024-02-18+23-41-34+00\n"
          ]
        },
        {
          "name": "stderr",
          "output_type": "stream",
          "text": [
            "\n"
          ]
        },
        {
          "name": "stdout",
          "output_type": "stream",
          "text": [
            "speechbrain.utils.checkpoints - Deleted checkpoint in results/transformer/Task_2B/save/CKPT+2024-02-18+23-33-42+00\n",
            "speechbrain.utils.epoch_loop - Going into epoch 30\n"
          ]
        },
        {
          "name": "stderr",
          "output_type": "stream",
          "text": [
            "100%|██████████| 190/190 [00:27<00:00,  6.96it/s, train_loss=196]\n",
            "100%|██████████| 137/137 [00:14<00:00,  9.23it/s]"
          ]
        },
        {
          "name": "stdout",
          "output_type": "stream",
          "text": [
            "speechbrain.utils.train_logger - epoch: 30, lr: 5.13e-04, steps: 5700, optimizer: Adam - train loss: 1.96e+02 - valid loss: 1.47e+02, valid CER: 36.79, valid WER: 74.85\n",
            "speechbrain.utils.checkpoints - Saved an end-of-epoch checkpoint in results/transformer/Task_2B/save/CKPT+2024-02-18+23-42-16+00\n"
          ]
        },
        {
          "name": "stderr",
          "output_type": "stream",
          "text": [
            "\n"
          ]
        },
        {
          "name": "stdout",
          "output_type": "stream",
          "text": [
            "speechbrain.utils.checkpoints - Deleted checkpoint in results/transformer/Task_2B/save/CKPT+2024-02-18+23-34-28+00\n",
            "speechbrain.utils.epoch_loop - Going into epoch 31\n"
          ]
        },
        {
          "name": "stderr",
          "output_type": "stream",
          "text": [
            "100%|██████████| 190/190 [00:28<00:00,  6.70it/s, train_loss=193]\n",
            "100%|██████████| 137/137 [00:15<00:00,  9.00it/s]"
          ]
        },
        {
          "name": "stdout",
          "output_type": "stream",
          "text": [
            "speechbrain.utils.train_logger - epoch: 31, lr: 5.05e-04, steps: 5890, optimizer: Adam - train loss: 1.93e+02 - valid loss: 1.46e+02, valid CER: 36.26, valid WER: 74.85\n"
          ]
        },
        {
          "name": "stderr",
          "output_type": "stream",
          "text": [
            "\n"
          ]
        },
        {
          "name": "stdout",
          "output_type": "stream",
          "text": [
            "speechbrain.utils.checkpoints - Saved an end-of-epoch checkpoint in results/transformer/Task_2B/save/CKPT+2024-02-18+23-43-00+00\n",
            "speechbrain.utils.checkpoints - Deleted checkpoint in results/transformer/Task_2B/save/CKPT+2024-02-18+23-35-17+00\n",
            "speechbrain.utils.epoch_loop - Going into epoch 32\n"
          ]
        },
        {
          "name": "stderr",
          "output_type": "stream",
          "text": [
            "100%|██████████| 190/190 [00:28<00:00,  6.67it/s, train_loss=191]\n",
            "100%|██████████| 137/137 [00:16<00:00,  8.51it/s]"
          ]
        },
        {
          "name": "stdout",
          "output_type": "stream",
          "text": [
            "speechbrain.utils.train_logger - epoch: 32, lr: 4.97e-04, steps: 6080, optimizer: Adam - train loss: 1.91e+02 - valid loss: 1.46e+02, valid CER: 36.31, valid WER: 74.48\n",
            "speechbrain.utils.checkpoints - Saved an end-of-epoch checkpoint in results/transformer/Task_2B/save/CKPT+2024-02-18+23-43-45+00\n"
          ]
        },
        {
          "name": "stderr",
          "output_type": "stream",
          "text": [
            "\n"
          ]
        },
        {
          "name": "stdout",
          "output_type": "stream",
          "text": [
            "speechbrain.utils.checkpoints - Deleted checkpoint in results/transformer/Task_2B/save/CKPT+2024-02-18+23-36-08+00\n",
            "speechbrain.utils.epoch_loop - Going into epoch 33\n"
          ]
        },
        {
          "name": "stderr",
          "output_type": "stream",
          "text": [
            "100%|██████████| 190/190 [00:25<00:00,  7.53it/s, train_loss=188]\n",
            "100%|██████████| 137/137 [00:12<00:00, 11.24it/s]"
          ]
        },
        {
          "name": "stdout",
          "output_type": "stream",
          "text": [
            "speechbrain.utils.train_logger - epoch: 33, lr: 4.89e-04, steps: 6270, optimizer: Adam - train loss: 1.88e+02 - valid loss: 1.46e+02, valid CER: 36.22, valid WER: 74.63\n"
          ]
        },
        {
          "name": "stderr",
          "output_type": "stream",
          "text": [
            "\n"
          ]
        },
        {
          "name": "stdout",
          "output_type": "stream",
          "text": [
            "speechbrain.utils.checkpoints - Saved an end-of-epoch checkpoint in results/transformer/Task_2B/save/CKPT+2024-02-18+23-44-23+00\n",
            "speechbrain.utils.checkpoints - Deleted checkpoint in results/transformer/Task_2B/save/CKPT+2024-02-18+23-36-57+00\n",
            "speechbrain.utils.epoch_loop - Going into epoch 34\n"
          ]
        },
        {
          "name": "stderr",
          "output_type": "stream",
          "text": [
            "100%|██████████| 190/190 [00:24<00:00,  7.65it/s, train_loss=186]\n",
            "100%|██████████| 137/137 [00:16<00:00,  8.27it/s]"
          ]
        },
        {
          "name": "stdout",
          "output_type": "stream",
          "text": [
            "speechbrain.utils.train_logger - epoch: 34, lr: 4.82e-04, steps: 6460, optimizer: Adam - train loss: 1.86e+02 - valid loss: 1.46e+02, valid CER: 36.07, valid WER: 74.12\n",
            "speechbrain.utils.checkpoints - Saved an end-of-epoch checkpoint in results/transformer/Task_2B/save/CKPT+2024-02-18+23-45-04+00\n"
          ]
        },
        {
          "name": "stderr",
          "output_type": "stream",
          "text": [
            "\n"
          ]
        },
        {
          "name": "stdout",
          "output_type": "stream",
          "text": [
            "speechbrain.utils.checkpoints - Deleted checkpoint in results/transformer/Task_2B/save/CKPT+2024-02-18+23-37-44+00\n",
            "speechbrain.utils.epoch_loop - Going into epoch 35\n"
          ]
        },
        {
          "name": "stderr",
          "output_type": "stream",
          "text": [
            "100%|██████████| 190/190 [00:24<00:00,  7.68it/s, train_loss=184]\n",
            "100%|██████████| 137/137 [00:11<00:00, 11.49it/s]"
          ]
        },
        {
          "name": "stdout",
          "output_type": "stream",
          "text": [
            "speechbrain.utils.train_logger - epoch: 35, lr: 4.75e-04, steps: 6650, optimizer: Adam - train loss: 1.84e+02 - valid loss: 1.46e+02, valid CER: 35.94, valid WER: 74.09\n"
          ]
        },
        {
          "name": "stderr",
          "output_type": "stream",
          "text": [
            "\n"
          ]
        },
        {
          "name": "stdout",
          "output_type": "stream",
          "text": [
            "speechbrain.utils.checkpoints - Saved an end-of-epoch checkpoint in results/transformer/Task_2B/save/CKPT+2024-02-18+23-45-41+00\n",
            "speechbrain.utils.checkpoints - Deleted checkpoint in results/transformer/Task_2B/save/CKPT+2024-02-18+23-38-32+00\n",
            "speechbrain.utils.epoch_loop - Going into epoch 36\n"
          ]
        },
        {
          "name": "stderr",
          "output_type": "stream",
          "text": [
            "100%|██████████| 190/190 [00:25<00:00,  7.56it/s, train_loss=181]\n",
            "100%|██████████| 137/137 [00:11<00:00, 11.43it/s]"
          ]
        },
        {
          "name": "stdout",
          "output_type": "stream",
          "text": [
            "speechbrain.utils.train_logger - epoch: 36, lr: 4.68e-04, steps: 6840, optimizer: Adam - train loss: 1.81e+02 - valid loss: 1.45e+02, valid CER: 35.63, valid WER: 73.81\n",
            "speechbrain.utils.checkpoints - Saved an end-of-epoch checkpoint in results/transformer/Task_2B/save/CKPT+2024-02-18+23-46-19+00\n"
          ]
        },
        {
          "name": "stderr",
          "output_type": "stream",
          "text": [
            "\n"
          ]
        },
        {
          "name": "stdout",
          "output_type": "stream",
          "text": [
            "speechbrain.utils.checkpoints - Deleted checkpoint in results/transformer/Task_2B/save/CKPT+2024-02-18+23-39-18+00\n",
            "speechbrain.utils.epoch_loop - Going into epoch 37\n"
          ]
        },
        {
          "name": "stderr",
          "output_type": "stream",
          "text": [
            "100%|██████████| 190/190 [00:25<00:00,  7.48it/s, train_loss=179]\n",
            "100%|██████████| 137/137 [00:12<00:00, 11.39it/s]"
          ]
        },
        {
          "name": "stdout",
          "output_type": "stream",
          "text": [
            "speechbrain.utils.train_logger - epoch: 37, lr: 4.62e-04, steps: 7030, optimizer: Adam - train loss: 1.79e+02 - valid loss: 1.44e+02, valid CER: 35.06, valid WER: 73.24\n"
          ]
        },
        {
          "name": "stderr",
          "output_type": "stream",
          "text": [
            "\n"
          ]
        },
        {
          "name": "stdout",
          "output_type": "stream",
          "text": [
            "speechbrain.utils.checkpoints - Saved an end-of-epoch checkpoint in results/transformer/Task_2B/save/CKPT+2024-02-18+23-46-57+00\n",
            "speechbrain.utils.checkpoints - Deleted checkpoint in results/transformer/Task_2B/save/CKPT+2024-02-18+23-40-05+00\n",
            "speechbrain.utils.epoch_loop - Going into epoch 38\n"
          ]
        },
        {
          "name": "stderr",
          "output_type": "stream",
          "text": [
            "100%|██████████| 190/190 [00:24<00:00,  7.80it/s, train_loss=177]\n",
            "100%|██████████| 137/137 [00:12<00:00, 11.33it/s]"
          ]
        },
        {
          "name": "stdout",
          "output_type": "stream",
          "text": [
            "speechbrain.utils.train_logger - epoch: 38, lr: 4.56e-04, steps: 7220, optimizer: Adam - train loss: 1.77e+02 - valid loss: 1.45e+02, valid CER: 35.21, valid WER: 73.16\n",
            "speechbrain.utils.checkpoints - Saved an end-of-epoch checkpoint in results/transformer/Task_2B/save/CKPT+2024-02-18+23-47-34+00\n"
          ]
        },
        {
          "name": "stderr",
          "output_type": "stream",
          "text": [
            "\n"
          ]
        },
        {
          "name": "stdout",
          "output_type": "stream",
          "text": [
            "speechbrain.utils.checkpoints - Deleted checkpoint in results/transformer/Task_2B/save/CKPT+2024-02-18+23-40-52+00\n",
            "speechbrain.utils.epoch_loop - Going into epoch 39\n"
          ]
        },
        {
          "name": "stderr",
          "output_type": "stream",
          "text": [
            "100%|██████████| 190/190 [00:23<00:00,  8.04it/s, train_loss=175]\n",
            "100%|██████████| 137/137 [00:12<00:00, 11.01it/s]"
          ]
        },
        {
          "name": "stdout",
          "output_type": "stream",
          "text": [
            "speechbrain.utils.train_logger - epoch: 39, lr: 4.50e-04, steps: 7410, optimizer: Adam - train loss: 1.75e+02 - valid loss: 1.45e+02, valid CER: 35.29, valid WER: 73.32\n",
            "speechbrain.utils.checkpoints - Saved an end-of-epoch checkpoint in results/transformer/Task_2B/save/CKPT+2024-02-18+23-48-10+00\n"
          ]
        },
        {
          "name": "stderr",
          "output_type": "stream",
          "text": [
            "\n"
          ]
        },
        {
          "name": "stdout",
          "output_type": "stream",
          "text": [
            "speechbrain.utils.checkpoints - Deleted checkpoint in results/transformer/Task_2B/save/CKPT+2024-02-18+23-41-34+00\n",
            "speechbrain.utils.epoch_loop - Going into epoch 40\n"
          ]
        },
        {
          "name": "stderr",
          "output_type": "stream",
          "text": [
            "100%|██████████| 190/190 [00:24<00:00,  7.80it/s, train_loss=174]\n",
            "100%|██████████| 137/137 [00:11<00:00, 12.05it/s]"
          ]
        },
        {
          "name": "stdout",
          "output_type": "stream",
          "text": [
            "speechbrain.utils.train_logger - epoch: 40, lr: 4.44e-04, steps: 7600, optimizer: Adam - train loss: 1.74e+02 - valid loss: 1.45e+02, valid CER: 35.32, valid WER: 73.39\n"
          ]
        },
        {
          "name": "stderr",
          "output_type": "stream",
          "text": [
            "\n"
          ]
        },
        {
          "name": "stdout",
          "output_type": "stream",
          "text": [
            "speechbrain.utils.checkpoints - Saved an end-of-epoch checkpoint in results/transformer/Task_2B/save/CKPT+2024-02-18+23-48-46+00\n",
            "speechbrain.utils.checkpoints - Deleted checkpoint in results/transformer/Task_2B/save/CKPT+2024-02-18+23-42-16+00\n",
            "speechbrain.utils.epoch_loop - Going into epoch 41\n"
          ]
        },
        {
          "name": "stderr",
          "output_type": "stream",
          "text": [
            "100%|██████████| 190/190 [00:23<00:00,  7.97it/s, train_loss=172]\n",
            "100%|██████████| 137/137 [00:11<00:00, 12.09it/s]"
          ]
        },
        {
          "name": "stdout",
          "output_type": "stream",
          "text": [
            "speechbrain.utils.train_logger - epoch: 41, lr: 4.39e-04, steps: 7790, optimizer: Adam - train loss: 1.72e+02 - valid loss: 1.45e+02, valid CER: 35.27, valid WER: 72.81\n"
          ]
        },
        {
          "name": "stderr",
          "output_type": "stream",
          "text": [
            "\n"
          ]
        },
        {
          "name": "stdout",
          "output_type": "stream",
          "text": [
            "speechbrain.utils.checkpoints - Saved an end-of-epoch checkpoint in results/transformer/Task_2B/save/CKPT+2024-02-18+23-49-22+00\n",
            "speechbrain.utils.checkpoints - Deleted checkpoint in results/transformer/Task_2B/save/CKPT+2024-02-18+23-43-00+00\n",
            "speechbrain.utils.epoch_loop - Going into epoch 42\n"
          ]
        },
        {
          "name": "stderr",
          "output_type": "stream",
          "text": [
            "100%|██████████| 190/190 [00:25<00:00,  7.53it/s, train_loss=171]\n",
            "100%|██████████| 137/137 [00:11<00:00, 11.63it/s]"
          ]
        },
        {
          "name": "stdout",
          "output_type": "stream",
          "text": [
            "speechbrain.utils.train_logger - epoch: 42, lr: 4.34e-04, steps: 7980, optimizer: Adam - train loss: 1.71e+02 - valid loss: 1.45e+02, valid CER: 34.91, valid WER: 72.79\n"
          ]
        },
        {
          "name": "stderr",
          "output_type": "stream",
          "text": [
            "\n"
          ]
        },
        {
          "name": "stdout",
          "output_type": "stream",
          "text": [
            "speechbrain.utils.checkpoints - Saved an end-of-epoch checkpoint in results/transformer/Task_2B/save/CKPT+2024-02-18+23-49-59+00\n",
            "speechbrain.utils.checkpoints - Deleted checkpoint in results/transformer/Task_2B/save/CKPT+2024-02-18+23-43-45+00\n",
            "speechbrain.utils.epoch_loop - Going into epoch 43\n"
          ]
        },
        {
          "name": "stderr",
          "output_type": "stream",
          "text": [
            "100%|██████████| 190/190 [00:24<00:00,  7.90it/s, train_loss=169]\n",
            "100%|██████████| 137/137 [00:11<00:00, 11.49it/s]"
          ]
        },
        {
          "name": "stdout",
          "output_type": "stream",
          "text": [
            "speechbrain.utils.train_logger - epoch: 43, lr: 4.29e-04, steps: 8170, optimizer: Adam - train loss: 1.69e+02 - valid loss: 1.45e+02, valid CER: 34.99, valid WER: 72.91\n",
            "speechbrain.utils.checkpoints - Saved an end-of-epoch checkpoint in results/transformer/Task_2B/save/CKPT+2024-02-18+23-50-36+00\n"
          ]
        },
        {
          "name": "stderr",
          "output_type": "stream",
          "text": [
            "\n"
          ]
        },
        {
          "name": "stdout",
          "output_type": "stream",
          "text": [
            "speechbrain.utils.checkpoints - Deleted checkpoint in results/transformer/Task_2B/save/CKPT+2024-02-18+23-44-23+00\n",
            "speechbrain.utils.epoch_loop - Going into epoch 44\n"
          ]
        },
        {
          "name": "stderr",
          "output_type": "stream",
          "text": [
            "100%|██████████| 190/190 [00:25<00:00,  7.58it/s, train_loss=167]\n",
            "100%|██████████| 137/137 [00:11<00:00, 11.87it/s]"
          ]
        },
        {
          "name": "stdout",
          "output_type": "stream",
          "text": [
            "speechbrain.utils.train_logger - epoch: 44, lr: 4.24e-04, steps: 8360, optimizer: Adam - train loss: 1.67e+02 - valid loss: 1.45e+02, valid CER: 34.57, valid WER: 72.74\n",
            "speechbrain.utils.checkpoints - Saved an end-of-epoch checkpoint in results/transformer/Task_2B/save/CKPT+2024-02-18+23-51-13+00\n"
          ]
        },
        {
          "name": "stderr",
          "output_type": "stream",
          "text": [
            "\n"
          ]
        },
        {
          "name": "stdout",
          "output_type": "stream",
          "text": [
            "speechbrain.utils.checkpoints - Deleted checkpoint in results/transformer/Task_2B/save/CKPT+2024-02-18+23-45-04+00\n",
            "speechbrain.utils.epoch_loop - Going into epoch 45\n"
          ]
        },
        {
          "name": "stderr",
          "output_type": "stream",
          "text": [
            "100%|██████████| 190/190 [00:24<00:00,  7.82it/s, train_loss=166]\n",
            "100%|██████████| 137/137 [00:11<00:00, 11.49it/s]"
          ]
        },
        {
          "name": "stdout",
          "output_type": "stream",
          "text": [
            "speechbrain.utils.train_logger - epoch: 45, lr: 4.19e-04, steps: 8550, optimizer: Adam - train loss: 1.66e+02 - valid loss: 1.45e+02, valid CER: 34.51, valid WER: 72.44\n",
            "speechbrain.utils.checkpoints - Saved an end-of-epoch checkpoint in results/transformer/Task_2B/save/CKPT+2024-02-18+23-51-49+00\n"
          ]
        },
        {
          "name": "stderr",
          "output_type": "stream",
          "text": [
            "\n"
          ]
        },
        {
          "name": "stdout",
          "output_type": "stream",
          "text": [
            "speechbrain.utils.checkpoints - Deleted checkpoint in results/transformer/Task_2B/save/CKPT+2024-02-18+23-45-41+00\n",
            "speechbrain.utils.epoch_loop - Going into epoch 46\n"
          ]
        },
        {
          "name": "stderr",
          "output_type": "stream",
          "text": [
            "100%|██████████| 190/190 [00:23<00:00,  7.94it/s, train_loss=164]\n",
            "100%|██████████| 137/137 [00:12<00:00, 10.72it/s]"
          ]
        },
        {
          "name": "stdout",
          "output_type": "stream",
          "text": [
            "speechbrain.utils.train_logger - epoch: 46, lr: 4.14e-04, steps: 8740, optimizer: Adam - train loss: 1.64e+02 - valid loss: 1.46e+02, valid CER: 34.59, valid WER: 73.03\n",
            "speechbrain.utils.checkpoints - Saved an end-of-epoch checkpoint in results/transformer/Task_2B/save/CKPT+2024-02-18+23-52-26+00\n"
          ]
        },
        {
          "name": "stderr",
          "output_type": "stream",
          "text": [
            "\n"
          ]
        },
        {
          "name": "stdout",
          "output_type": "stream",
          "text": [
            "speechbrain.utils.checkpoints - Deleted checkpoint in results/transformer/Task_2B/save/CKPT+2024-02-18+23-46-19+00\n",
            "speechbrain.utils.epoch_loop - Going into epoch 47\n"
          ]
        },
        {
          "name": "stderr",
          "output_type": "stream",
          "text": [
            "100%|██████████| 190/190 [00:24<00:00,  7.83it/s, train_loss=163]\n",
            "100%|██████████| 137/137 [00:11<00:00, 11.52it/s]"
          ]
        },
        {
          "name": "stdout",
          "output_type": "stream",
          "text": [
            "speechbrain.utils.train_logger - epoch: 47, lr: 4.10e-04, steps: 8930, optimizer: Adam - train loss: 1.63e+02 - valid loss: 1.46e+02, valid CER: 34.53, valid WER: 73.13\n"
          ]
        },
        {
          "name": "stderr",
          "output_type": "stream",
          "text": [
            "\n"
          ]
        },
        {
          "name": "stdout",
          "output_type": "stream",
          "text": [
            "speechbrain.utils.checkpoints - Saved an end-of-epoch checkpoint in results/transformer/Task_2B/save/CKPT+2024-02-18+23-53-03+00\n",
            "speechbrain.utils.checkpoints - Deleted checkpoint in results/transformer/Task_2B/save/CKPT+2024-02-18+23-46-57+00\n",
            "speechbrain.utils.epoch_loop - Going into epoch 48\n"
          ]
        },
        {
          "name": "stderr",
          "output_type": "stream",
          "text": [
            "100%|██████████| 190/190 [00:23<00:00,  8.09it/s, train_loss=162]\n",
            "100%|██████████| 137/137 [00:12<00:00, 11.18it/s]"
          ]
        },
        {
          "name": "stdout",
          "output_type": "stream",
          "text": [
            "speechbrain.utils.train_logger - epoch: 48, lr: 4.06e-04, steps: 9120, optimizer: Adam - train loss: 1.62e+02 - valid loss: 1.46e+02, valid CER: 34.27, valid WER: 72.47\n",
            "speechbrain.utils.checkpoints - Saved an end-of-epoch checkpoint in results/transformer/Task_2B/save/CKPT+2024-02-18+23-53-39+00\n"
          ]
        },
        {
          "name": "stderr",
          "output_type": "stream",
          "text": [
            "\n"
          ]
        },
        {
          "name": "stdout",
          "output_type": "stream",
          "text": [
            "speechbrain.utils.checkpoints - Deleted checkpoint in results/transformer/Task_2B/save/CKPT+2024-02-18+23-47-34+00\n",
            "speechbrain.utils.epoch_loop - Going into epoch 49\n"
          ]
        },
        {
          "name": "stderr",
          "output_type": "stream",
          "text": [
            "100%|██████████| 190/190 [00:24<00:00,  7.79it/s, train_loss=160]\n",
            "100%|██████████| 137/137 [00:10<00:00, 12.76it/s]"
          ]
        },
        {
          "name": "stdout",
          "output_type": "stream",
          "text": [
            "speechbrain.utils.train_logger - epoch: 49, lr: 4.01e-04, steps: 9310, optimizer: Adam - train loss: 1.60e+02 - valid loss: 1.46e+02, valid CER: 34.45, valid WER: 72.52\n",
            "speechbrain.utils.checkpoints - Saved an end-of-epoch checkpoint in results/transformer/Task_2B/save/CKPT+2024-02-18+23-54-15+00\n"
          ]
        },
        {
          "name": "stderr",
          "output_type": "stream",
          "text": [
            "\n"
          ]
        },
        {
          "name": "stdout",
          "output_type": "stream",
          "text": [
            "speechbrain.utils.checkpoints - Deleted checkpoint in results/transformer/Task_2B/save/CKPT+2024-02-18+23-48-10+00\n",
            "speechbrain.utils.epoch_loop - Going into epoch 50\n"
          ]
        },
        {
          "name": "stderr",
          "output_type": "stream",
          "text": [
            "100%|██████████| 190/190 [00:24<00:00,  7.76it/s, train_loss=159]\n",
            "100%|██████████| 137/137 [00:11<00:00, 11.49it/s]"
          ]
        },
        {
          "name": "stdout",
          "output_type": "stream",
          "text": [
            "speechbrain.utils.train_logger - epoch: 50, lr: 3.97e-04, steps: 9500, optimizer: Adam - train loss: 1.59e+02 - valid loss: 1.45e+02, valid CER: 34.08, valid WER: 72.58\n",
            "speechbrain.utils.checkpoints - Saved an end-of-epoch checkpoint in results/transformer/Task_2B/save/CKPT+2024-02-18+23-54-52+00\n"
          ]
        },
        {
          "name": "stderr",
          "output_type": "stream",
          "text": [
            "\n"
          ]
        },
        {
          "name": "stdout",
          "output_type": "stream",
          "text": [
            "speechbrain.utils.checkpoints - Deleted checkpoint in results/transformer/Task_2B/save/CKPT+2024-02-18+23-48-46+00\n",
            "speechbrain.utils.checkpoints - Would load a checkpoint here, but none found yet.\n"
          ]
        },
        {
          "name": "stderr",
          "output_type": "stream",
          "text": [
            "100%|██████████| 351/351 [00:24<00:00, 14.06it/s]"
          ]
        },
        {
          "name": "stdout",
          "output_type": "stream",
          "text": [
            "speechbrain.utils.train_logger - Epoch loaded: 50 - test loss: 1.34e+02, test CER: 2.55e+02, test WER: 2.93e+02\n"
          ]
        },
        {
          "name": "stderr",
          "output_type": "stream",
          "text": [
            "\n"
          ]
        },
        {
          "data": {
            "text/plain": [
              "134.3185787689994"
            ]
          },
          "execution_count": 17,
          "metadata": {},
          "output_type": "execute_result"
        }
      ],
      "source": [
        "hyperparams = global_hyperparams + task_hyperparameters\n",
        "hparams = load_hyperpyyaml(hyperparams)\n",
        "\n",
        "# Create experiment directory\n",
        "sb.create_experiment_directory(\n",
        "    experiment_directory=hparams[\"output_folder\"],\n",
        "    overrides=None,\n",
        ")\n",
        "\n",
        "# We download the pretrained LM from HuggingFace (or elsewhere depending on\n",
        "# the path given in the YAML file). The tokenizer is loaded at the same time.\n",
        "run_on_main(hparams[\"pretrainer\"].collect_files)\n",
        "hparams[\"pretrainer\"].load_collected(device=run_opts[\"device\"])\n",
        "\n",
        "# Trainer initialization\n",
        "asr_brain = ASR_2B(\n",
        "    modules=hparams[\"modules\"],\n",
        "    opt_class=hparams[\"Adam\"],\n",
        "    hparams=hparams,\n",
        "    checkpointer=hparams[\"checkpointer\"],\n",
        "    run_opts=run_opts,\n",
        "    tokenizer=tokenizer,\n",
        "    device=device\n",
        ")\n",
        "\n",
        "# adding objects to trainer:\n",
        "train_dataloader_opts = hparams[\"train_dataloader_opts\"]\n",
        "valid_dataloader_opts = hparams[\"valid_dataloader_opts\"]\n",
        "\n",
        "# Training\n",
        "asr_brain.fit(\n",
        "    asr_brain.hparams.epoch_counter,\n",
        "    train_data,\n",
        "    valid_data,\n",
        "    train_loader_kwargs=train_dataloader_opts,\n",
        "    valid_loader_kwargs=valid_dataloader_opts\n",
        ")\n",
        "\n",
        "# Testing\n",
        "\n",
        "asr_brain.hparams.test_wer_file = asr_brain.hparams.wer_file\n",
        "asr_brain.evaluate(\n",
        "    test_data,\n",
        "    max_key=\"ACC\",\n",
        "    test_loader_kwargs=hparams[\"test_dataloader_opts\"],\n",
        ")"
      ]
    },
    {
      "cell_type": "code",
      "execution_count": 18,
      "metadata": {},
      "outputs": [
        {
          "name": "stdout",
          "output_type": "stream",
          "text": [
            "2\n"
          ]
        }
      ],
      "source": [
        "print(len(test_preds))"
      ]
    },
    {
      "cell_type": "code",
      "execution_count": 19,
      "metadata": {},
      "outputs": [
        {
          "name": "stdout",
          "output_type": "stream",
          "text": [
            "8254-115543-0001 ['EVING', 'WAS', 'THEMRY', 'THETION', 'THTHERRES', 'ANDLET', 'AT', 'TPING', 'DISPRETING', 'AND', 'THE', 'GIVING', 'OF', 'CONTURY', 'ORDERS']\n"
          ]
        }
      ],
      "source": [
        "print(test_preds['ID'][0], test_preds['TRANSCRIPT'][0])"
      ]
    },
    {
      "cell_type": "code",
      "execution_count": 20,
      "metadata": {},
      "outputs": [],
      "source": [
        "for i in range(len(test_preds['ID'])):\n",
        "    test_preds['TRANSCRIPT'][i] = ' '.join(test_preds['TRANSCRIPT'][i])"
      ]
    },
    {
      "cell_type": "code",
      "execution_count": 21,
      "metadata": {},
      "outputs": [],
      "source": [
        "import csv\n",
        "\n",
        "field_names = list(test_preds.keys())\n",
        "rows = zip(*test_preds.values())\n",
        "\n",
        "with open('output.csv', 'w', newline='') as csvfile:\n",
        "    writer = csv.writer(csvfile)\n",
        "    \n",
        "    # Write header\n",
        "    writer.writerow(field_names)\n",
        "    \n",
        "    # Write rows\n",
        "    writer.writerows(rows)"
      ]
    }
  ],
  "metadata": {
    "accelerator": "GPU",
    "colab": {
      "gpuType": "T4",
      "provenance": []
    },
    "kernelspec": {
      "display_name": "Python 3",
      "name": "python3"
    },
    "language_info": {
      "codemirror_mode": {
        "name": "ipython",
        "version": 3
      },
      "file_extension": ".py",
      "mimetype": "text/x-python",
      "name": "python",
      "nbconvert_exporter": "python",
      "pygments_lexer": "ipython3",
      "version": "3.9.2"
    }
  },
  "nbformat": 4,
  "nbformat_minor": 0
}
